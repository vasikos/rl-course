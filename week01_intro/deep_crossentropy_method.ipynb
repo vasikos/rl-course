{
  "cells": [
    {
      "cell_type": "markdown",
      "metadata": {
        "id": "I_i1q1TWG9zH"
      },
      "source": [
        "# Deep Crossentropy method\n",
        "\n",
        "In this section we'll extend your CEM implementation with neural networks! You will train a multi-layer neural network to solve simple continuous state space games. __Please make sure you're done with tabular crossentropy method from the previous notebook.__\n",
        "\n",
        "![img](https://watanimg.elwatannews.com/old_news_images/large/249765_Large_20140709045740_11.jpg)\n",
        "\n"
      ]
    },
    {
      "cell_type": "code",
      "execution_count": 1,
      "metadata": {
        "id": "t4CJ1sRyG9zJ",
        "outputId": "2aedd41b-f57b-4fd2-97f2-74f717eca061",
        "colab": {
          "base_uri": "https://localhost:8080/"
        }
      },
      "outputs": [
        {
          "output_type": "stream",
          "name": "stdout",
          "text": [
            "Selecting previously unselected package libfontenc1:amd64.\n",
            "(Reading database ... 121749 files and directories currently installed.)\n",
            "Preparing to unpack .../0-libfontenc1_1%3a1.1.4-1build3_amd64.deb ...\n",
            "Unpacking libfontenc1:amd64 (1:1.1.4-1build3) ...\n",
            "Selecting previously unselected package libxfont2:amd64.\n",
            "Preparing to unpack .../1-libxfont2_1%3a2.0.5-1build1_amd64.deb ...\n",
            "Unpacking libxfont2:amd64 (1:2.0.5-1build1) ...\n",
            "Selecting previously unselected package libxkbfile1:amd64.\n",
            "Preparing to unpack .../2-libxkbfile1_1%3a1.1.0-1build3_amd64.deb ...\n",
            "Unpacking libxkbfile1:amd64 (1:1.1.0-1build3) ...\n",
            "Selecting previously unselected package x11-xkb-utils.\n",
            "Preparing to unpack .../3-x11-xkb-utils_7.7+5build4_amd64.deb ...\n",
            "Unpacking x11-xkb-utils (7.7+5build4) ...\n",
            "Selecting previously unselected package xfonts-encodings.\n",
            "Preparing to unpack .../4-xfonts-encodings_1%3a1.0.5-0ubuntu2_all.deb ...\n",
            "Unpacking xfonts-encodings (1:1.0.5-0ubuntu2) ...\n",
            "Selecting previously unselected package xfonts-utils.\n",
            "Preparing to unpack .../5-xfonts-utils_1%3a7.7+6build2_amd64.deb ...\n",
            "Unpacking xfonts-utils (1:7.7+6build2) ...\n",
            "Selecting previously unselected package xfonts-base.\n",
            "Preparing to unpack .../6-xfonts-base_1%3a1.0.5_all.deb ...\n",
            "Unpacking xfonts-base (1:1.0.5) ...\n",
            "Selecting previously unselected package xserver-common.\n",
            "Preparing to unpack .../7-xserver-common_2%3a21.1.4-2ubuntu1.7~22.04.8_all.deb ...\n",
            "Unpacking xserver-common (2:21.1.4-2ubuntu1.7~22.04.8) ...\n",
            "Selecting previously unselected package xvfb.\n",
            "Preparing to unpack .../8-xvfb_2%3a21.1.4-2ubuntu1.7~22.04.8_amd64.deb ...\n",
            "Unpacking xvfb (2:21.1.4-2ubuntu1.7~22.04.8) ...\n",
            "Setting up libfontenc1:amd64 (1:1.1.4-1build3) ...\n",
            "Setting up xfonts-encodings (1:1.0.5-0ubuntu2) ...\n",
            "Setting up libxkbfile1:amd64 (1:1.1.0-1build3) ...\n",
            "Setting up libxfont2:amd64 (1:2.0.5-1build1) ...\n",
            "Setting up x11-xkb-utils (7.7+5build4) ...\n",
            "Setting up xfonts-utils (1:7.7+6build2) ...\n",
            "Setting up xfonts-base (1:1.0.5) ...\n",
            "Setting up xserver-common (2:21.1.4-2ubuntu1.7~22.04.8) ...\n",
            "Setting up xvfb (2:21.1.4-2ubuntu1.7~22.04.8) ...\n",
            "Processing triggers for man-db (2.10.2-1) ...\n",
            "Processing triggers for fontconfig (2.13.1-4.2ubuntu5) ...\n",
            "Processing triggers for libc-bin (2.35-0ubuntu3.4) ...\n",
            "/sbin/ldconfig.real: /usr/local/lib/libtbbbind_2_5.so.3 is not a symbolic link\n",
            "\n",
            "/sbin/ldconfig.real: /usr/local/lib/libtbbbind.so.3 is not a symbolic link\n",
            "\n",
            "/sbin/ldconfig.real: /usr/local/lib/libtbbbind_2_0.so.3 is not a symbolic link\n",
            "\n",
            "/sbin/ldconfig.real: /usr/local/lib/libtbbmalloc.so.2 is not a symbolic link\n",
            "\n",
            "/sbin/ldconfig.real: /usr/local/lib/libtbbmalloc_proxy.so.2 is not a symbolic link\n",
            "\n",
            "/sbin/ldconfig.real: /usr/local/lib/libtbb.so.12 is not a symbolic link\n",
            "\n",
            "Error:\n",
            "\n",
            "\t'NoneType' object has no attribute 'groups'\n",
            "\n",
            "To report issues, please visit https://github.com/wkentaro/gdown/issues.\n",
            "Starting virtual X frame buffer: Xvfb.\n"
          ]
        }
      ],
      "source": [
        "import sys, os\n",
        "if 'google.colab' in sys.modules and not os.path.exists('.setup_complete'):\n",
        "    !wget -q https://raw.githubusercontent.com/yandexdataschool/Practical_RL/master/setup_colab.sh -O- | bash\n",
        "    !touch .setup_complete\n",
        "\n",
        "# This code creates a virtual display to draw game images on.\n",
        "# It will have no effect if your machine has a monitor.\n",
        "if type(os.environ.get(\"DISPLAY\")) is not str or len(os.environ.get(\"DISPLAY\")) == 0:\n",
        "    !bash ../xvfb start\n",
        "    os.environ['DISPLAY'] = ':1'"
      ]
    },
    {
      "cell_type": "code",
      "execution_count": 2,
      "metadata": {
        "id": "C2xd5vPwPVCb",
        "outputId": "8c165fc3-b670-41d7-defa-f1e28fd15515",
        "colab": {
          "base_uri": "https://localhost:8080/"
        }
      },
      "outputs": [
        {
          "output_type": "stream",
          "name": "stdout",
          "text": [
            "Collecting gymnasium[classic_control,toy_text]\n",
            "  Downloading gymnasium-0.29.1-py3-none-any.whl (953 kB)\n",
            "\u001b[?25l     \u001b[90m━━━━━━━━━━━━━━━━━━━━━━━━━━━━━━━━━━━━━━━━\u001b[0m \u001b[32m0.0/953.9 kB\u001b[0m \u001b[31m?\u001b[0m eta \u001b[36m-:--:--\u001b[0m\r\u001b[2K     \u001b[91m━━━━━━\u001b[0m\u001b[90m╺\u001b[0m\u001b[90m━━━━━━━━━━━━━━━━━━━━━━━━━━━━━━━━━\u001b[0m \u001b[32m153.6/953.9 kB\u001b[0m \u001b[31m4.5 MB/s\u001b[0m eta \u001b[36m0:00:01\u001b[0m\r\u001b[2K     \u001b[91m━━━━━━━━━━━━━━━━━━━━━━━━━━━━━━━━━━━━━━━\u001b[0m\u001b[91m╸\u001b[0m \u001b[32m952.3/953.9 kB\u001b[0m \u001b[31m15.8 MB/s\u001b[0m eta \u001b[36m0:00:01\u001b[0m\r\u001b[2K     \u001b[90m━━━━━━━━━━━━━━━━━━━━━━━━━━━━━━━━━━━━━━━━\u001b[0m \u001b[32m953.9/953.9 kB\u001b[0m \u001b[31m13.1 MB/s\u001b[0m eta \u001b[36m0:00:00\u001b[0m\n",
            "\u001b[?25hRequirement already satisfied: numpy>=1.21.0 in /usr/local/lib/python3.10/dist-packages (from gymnasium[classic_control,toy_text]) (1.25.2)\n",
            "Requirement already satisfied: cloudpickle>=1.2.0 in /usr/local/lib/python3.10/dist-packages (from gymnasium[classic_control,toy_text]) (2.2.1)\n",
            "Requirement already satisfied: typing-extensions>=4.3.0 in /usr/local/lib/python3.10/dist-packages (from gymnasium[classic_control,toy_text]) (4.10.0)\n",
            "Collecting farama-notifications>=0.0.1 (from gymnasium[classic_control,toy_text])\n",
            "  Downloading Farama_Notifications-0.0.4-py3-none-any.whl (2.5 kB)\n",
            "Requirement already satisfied: pygame>=2.1.3 in /usr/local/lib/python3.10/dist-packages (from gymnasium[classic_control,toy_text]) (2.5.2)\n",
            "Installing collected packages: farama-notifications, gymnasium\n",
            "Successfully installed farama-notifications-0.0.4 gymnasium-0.29.1\n"
          ]
        }
      ],
      "source": [
        "# Install gymnasium if you didn't\n",
        "!pip install gymnasium[toy_text,classic_control]"
      ]
    },
    {
      "cell_type": "code",
      "execution_count": 3,
      "metadata": {
        "id": "_2zbc7ahG9zK",
        "outputId": "01d699bf-3ba2-44de-d314-fd517340ee91",
        "colab": {
          "base_uri": "https://localhost:8080/",
          "height": 464
        }
      },
      "outputs": [
        {
          "output_type": "stream",
          "name": "stderr",
          "text": [
            "/usr/local/lib/python3.10/dist-packages/gymnasium/envs/registration.py:513: DeprecationWarning: \u001b[33mWARN: The environment CartPole-v0 is out of date. You should consider upgrading to version `v1`.\u001b[0m\n",
            "  logger.deprecation(\n"
          ]
        },
        {
          "output_type": "stream",
          "name": "stdout",
          "text": [
            "state vector dim = 4\n",
            "n_actions = 2\n"
          ]
        },
        {
          "output_type": "display_data",
          "data": {
            "text/plain": [
              "<Figure size 640x480 with 1 Axes>"
            ],
            "image/png": "[encoded data removed]"
          },
          "metadata": {}
        }
      ],
      "source": [
        "import gymnasium as gym\n",
        "import numpy as np\n",
        "import matplotlib.pyplot as plt\n",
        "%matplotlib inline\n",
        "\n",
        "# if you see \"<classname> has no attribute .env\", remove .env or update gym\n",
        "env = gym.make(\"CartPole-v0\", render_mode=\"rgb_array\").env\n",
        "\n",
        "env.reset()\n",
        "n_actions = env.action_space.n\n",
        "state_dim = env.observation_space.shape[0]\n",
        "\n",
        "plt.imshow(env.render())\n",
        "print(\"state vector dim =\", state_dim)\n",
        "print(\"n_actions =\", n_actions)\n",
        "\n",
        "env.close()"
      ]
    },
    {
      "cell_type": "markdown",
      "metadata": {
        "id": "Z72_alhdG9zK"
      },
      "source": [
        "# Neural Network Policy\n",
        "\n",
        "For this assignment we'll utilize the simplified neural network implementation from __[Scikit-learn](https://scikit-learn.org/stable/modules/generated/sklearn.neural_network.MLPClassifier.html)__. Here's what you'll need:\n",
        "\n",
        "* `agent.partial_fit(states, actions)` - make a single training pass over the data. Maximize the probability of :actions: from :states:\n",
        "* `agent.predict_proba(states)` - predict probabilities of all actions, a matrix of shape __[len(states), n_actions]__\n"
      ]
    },
    {
      "cell_type": "code",
      "execution_count": 4,
      "metadata": {
        "id": "wLItY4unG9zL",
        "outputId": "8a0ad9ca-8bd1-43b6-b1a8-783f51aa56a7",
        "colab": {
          "base_uri": "https://localhost:8080/",
          "height": 74
        }
      },
      "outputs": [
        {
          "output_type": "execute_result",
          "data": {
            "text/plain": [
              "MLPClassifier(activation='tanh', hidden_layer_sizes=(20, 20))"
            ],
            "text/html": [
              "<style>#sk-container-id-1 {color: black;background-color: white;}#sk-container-id-1 pre{padding: 0;}#sk-container-id-1 div.sk-toggleable {background-color: white;}#sk-container-id-1 label.sk-toggleable__label {cursor: pointer;display: block;width: 100%;margin-bottom: 0;padding: 0.3em;box-sizing: border-box;text-align: center;}#sk-container-id-1 label.sk-toggleable__label-arrow:before {content: \"▸\";float: left;margin-right: 0.25em;color: #696969;}#sk-container-id-1 label.sk-toggleable__label-arrow:hover:before {color: black;}#sk-container-id-1 div.sk-estimator:hover label.sk-toggleable__label-arrow:before {color: black;}#sk-container-id-1 div.sk-toggleable__content {max-height: 0;max-width: 0;overflow: hidden;text-align: left;background-color: #f0f8ff;}#sk-container-id-1 div.sk-toggleable__content pre {margin: 0.2em;color: black;border-radius: 0.25em;background-color: #f0f8ff;}#sk-container-id-1 input.sk-toggleable__control:checked~div.sk-toggleable__content {max-height: 200px;max-width: 100%;overflow: auto;}#sk-container-id-1 input.sk-toggleable__control:checked~label.sk-toggleable__label-arrow:before {content: \"▾\";}#sk-container-id-1 div.sk-estimator input.sk-toggleable__control:checked~label.sk-toggleable__label {background-color: #d4ebff;}#sk-container-id-1 div.sk-label input.sk-toggleable__control:checked~label.sk-toggleable__label {background-color: #d4ebff;}#sk-container-id-1 input.sk-hidden--visually {border: 0;clip: rect(1px 1px 1px 1px);clip: rect(1px, 1px, 1px, 1px);height: 1px;margin: -1px;overflow: hidden;padding: 0;position: absolute;width: 1px;}#sk-container-id-1 div.sk-estimator {font-family: monospace;background-color: #f0f8ff;border: 1px dotted black;border-radius: 0.25em;box-sizing: border-box;margin-bottom: 0.5em;}#sk-container-id-1 div.sk-estimator:hover {background-color: #d4ebff;}#sk-container-id-1 div.sk-parallel-item::after {content: \"\";width: 100%;border-bottom: 1px solid gray;flex-grow: 1;}#sk-container-id-1 div.sk-label:hover label.sk-toggleable__label {background-color: #d4ebff;}#sk-container-id-1 div.sk-serial::before {content: \"\";position: absolute;border-left: 1px solid gray;box-sizing: border-box;top: 0;bottom: 0;left: 50%;z-index: 0;}#sk-container-id-1 div.sk-serial {display: flex;flex-direction: column;align-items: center;background-color: white;padding-right: 0.2em;padding-left: 0.2em;position: relative;}#sk-container-id-1 div.sk-item {position: relative;z-index: 1;}#sk-container-id-1 div.sk-parallel {display: flex;align-items: stretch;justify-content: center;background-color: white;position: relative;}#sk-container-id-1 div.sk-item::before, #sk-container-id-1 div.sk-parallel-item::before {content: \"\";position: absolute;border-left: 1px solid gray;box-sizing: border-box;top: 0;bottom: 0;left: 50%;z-index: -1;}#sk-container-id-1 div.sk-parallel-item {display: flex;flex-direction: column;z-index: 1;position: relative;background-color: white;}#sk-container-id-1 div.sk-parallel-item:first-child::after {align-self: flex-end;width: 50%;}#sk-container-id-1 div.sk-parallel-item:last-child::after {align-self: flex-start;width: 50%;}#sk-container-id-1 div.sk-parallel-item:only-child::after {width: 0;}#sk-container-id-1 div.sk-dashed-wrapped {border: 1px dashed gray;margin: 0 0.4em 0.5em 0.4em;box-sizing: border-box;padding-bottom: 0.4em;background-color: white;}#sk-container-id-1 div.sk-label label {font-family: monospace;font-weight: bold;display: inline-block;line-height: 1.2em;}#sk-container-id-1 div.sk-label-container {text-align: center;}#sk-container-id-1 div.sk-container {/* jupyter's `normalize.less` sets `[hidden] { display: none; }` but bootstrap.min.css set `[hidden] { display: none !important; }` so we also need the `!important` here to be able to override the default hidden behavior on the sphinx rendered scikit-learn.org. See: https://github.com/scikit-learn/scikit-learn/issues/21755 */display: inline-block !important;position: relative;}#sk-container-id-1 div.sk-text-repr-fallback {display: none;}</style><div id=\"sk-container-id-1\" class=\"sk-top-container\"><div class=\"sk-text-repr-fallback\"><pre>MLPClassifier(activation=&#x27;tanh&#x27;, hidden_layer_sizes=(20, 20))</pre><b>In a Jupyter environment, please rerun this cell to show the HTML representation or trust the notebook. <br />On GitHub, the HTML representation is unable to render, please try loading this page with nbviewer.org.</b></div><div class=\"sk-container\" hidden><div class=\"sk-item\"><div class=\"sk-estimator sk-toggleable\"><input class=\"sk-toggleable__control sk-hidden--visually\" id=\"sk-estimator-id-1\" type=\"checkbox\" checked><label for=\"sk-estimator-id-1\" class=\"sk-toggleable__label sk-toggleable__label-arrow\">MLPClassifier</label><div class=\"sk-toggleable__content\"><pre>MLPClassifier(activation=&#x27;tanh&#x27;, hidden_layer_sizes=(20, 20))</pre></div></div></div></div></div>"
            ]
          },
          "metadata": {},
          "execution_count": 4
        }
      ],
      "source": [
        "from sklearn.neural_network import MLPClassifier\n",
        "\n",
        "agent = MLPClassifier(\n",
        "    hidden_layer_sizes=(20, 20),\n",
        "    activation=\"tanh\",\n",
        ")\n",
        "\n",
        "# initialize agent to the dimension of state space and number of actions\n",
        "agent.partial_fit([env.reset()[0]] * n_actions, range(n_actions), range(n_actions))\n"
      ]
    },
    {
      "cell_type": "code",
      "source": [
        "agent.predict_proba(np.random.rand(2, 4))"
      ],
      "metadata": {
        "id": "mg-jJ0b7_cMg",
        "outputId": "c11936c4-1580-44ef-fba6-73616c9230fa",
        "colab": {
          "base_uri": "https://localhost:8080/"
        }
      },
      "execution_count": 5,
      "outputs": [
        {
          "output_type": "execute_result",
          "data": {
            "text/plain": [
              "array([[0.44771311, 0.55228689],\n",
              "       [0.43766404, 0.56233596]])"
            ]
          },
          "metadata": {},
          "execution_count": 5
        }
      ]
    },
    {
      "cell_type": "code",
      "execution_count": 6,
      "metadata": {
        "id": "eyFS3oUmG9zL"
      },
      "outputs": [],
      "source": [
        "def generate_session(env, agent, t_max=1000):\n",
        "    \"\"\"\n",
        "    Play a single game using agent neural network.\n",
        "    Terminate when game finishes or after :t_max: steps\n",
        "    \"\"\"\n",
        "    states, actions = [], []\n",
        "    total_reward = 0\n",
        "\n",
        "    s, _ = env.reset()\n",
        "\n",
        "    for t in range(t_max):\n",
        "\n",
        "        # use agent to predict a vector of action probabilities for state :s:\n",
        "        probs = agent.predict_proba(s.reshape(1, -1)).reshape(-1)\n",
        "\n",
        "        assert probs.shape == (env.action_space.n,), \"make sure probabilities are a vector (hint: np.reshape)\"\n",
        "\n",
        "        # use the probabilities you predicted to pick an action\n",
        "        # sample proportionally to the probabilities, don't just take the most likely action\n",
        "        a = np.random.choice(np.arange(n_actions), p=probs)\n",
        "        # ^-- hint: try np.random.choice\n",
        "\n",
        "        new_s, r, terminated, truncated, _ = env.step(a)\n",
        "\n",
        "        # record sessions like you did before\n",
        "        states.append(s)\n",
        "        actions.append(a)\n",
        "        total_reward += r\n",
        "\n",
        "        s = new_s\n",
        "        if terminated or truncated:\n",
        "            break\n",
        "    return states, actions, total_reward\n"
      ]
    },
    {
      "cell_type": "code",
      "execution_count": 7,
      "metadata": {
        "id": "4xgrTCgJG9zL",
        "outputId": "2183a02f-9619-4ccc-ef9f-8592ab852b97",
        "colab": {
          "base_uri": "https://localhost:8080/"
        }
      },
      "outputs": [
        {
          "output_type": "stream",
          "name": "stdout",
          "text": [
            "states: [[-0.01809199 -0.04740108 -0.0029153   0.04899587]\n",
            " [-0.01904001  0.14776255 -0.00193538 -0.24460544]\n",
            " [-0.01608476  0.34291208 -0.00682749 -0.5378982 ]\n",
            " [-0.00922652  0.1478868  -0.01758545 -0.24737433]\n",
            " [-0.00626878  0.34325543 -0.02253294 -0.54555184]]\n",
            "actions: [1, 1, 0, 1, 1]\n",
            "reward: 5.0\n"
          ]
        }
      ],
      "source": [
        "dummy_states, dummy_actions, dummy_reward = generate_session(env, agent, t_max=5)\n",
        "print(\"states:\", np.stack(dummy_states))\n",
        "print(\"actions:\", dummy_actions)\n",
        "print(\"reward:\", dummy_reward)\n"
      ]
    },
    {
      "cell_type": "markdown",
      "metadata": {
        "id": "p85lt16qG9zL"
      },
      "source": [
        "### CEM steps\n",
        "Deep CEM uses exactly the same strategy as the regular CEM, so you can copy your function code from previous notebook.\n",
        "\n",
        "The only difference is that now each observation is not a number but a `float32` vector."
      ]
    },
    {
      "cell_type": "code",
      "execution_count": 8,
      "metadata": {
        "id": "4On-p7p4G9zL"
      },
      "outputs": [],
      "source": [
        "def select_elites(states_batch, actions_batch, rewards_batch, percentile=50):\n",
        "    \"\"\"\n",
        "    Select states and actions from games that have rewards >= percentile\n",
        "    :param states_batch: list of lists of states, states_batch[session_i][t]\n",
        "    :param actions_batch: list of lists of actions, actions_batch[session_i][t]\n",
        "    :param rewards_batch: list of rewards, rewards_batch[session_i]\n",
        "\n",
        "    :returns: elite_states,elite_actions, both 1D lists of states and respective actions from elite sessions\n",
        "\n",
        "    Please return elite states and actions in their original order\n",
        "    [i.e. sorted by session number and timestep within session]\n",
        "\n",
        "    If you are confused, see examples below. Please don't assume that states are integers\n",
        "    (they will become different later).\n",
        "    \"\"\"\n",
        "\n",
        "    elite_states, elite_actions = [], []\n",
        "    threshold = np.quantile(rewards_batch, percentile/100)\n",
        "\n",
        "    sar_sorted = sorted(zip(states_batch, actions_batch, rewards_batch), key=lambda x: x[2])\n",
        "\n",
        "    n_ = int(len(rewards_batch) / 100 * 50)\n",
        "    for s, a, r in sar_sorted[-n_:]:\n",
        "        elite_states.extend(s)\n",
        "        elite_actions.extend(a)\n",
        "\n",
        "    return elite_states, elite_actions\n"
      ]
    },
    {
      "cell_type": "markdown",
      "metadata": {
        "id": "xc40V4DaG9zM"
      },
      "source": [
        "# Training loop\n",
        "Generate sessions, select N best and fit to those."
      ]
    },
    {
      "cell_type": "code",
      "execution_count": 9,
      "metadata": {
        "id": "PPwVKwF7G9zM"
      },
      "outputs": [],
      "source": [
        "from IPython.display import clear_output\n",
        "\n",
        "\n",
        "def show_progress(rewards_batch, log, percentile, reward_range=[-990, +10]):\n",
        "    \"\"\"\n",
        "    A convenience function that displays training progress.\n",
        "    No cool math here, just charts.\n",
        "    \"\"\"\n",
        "\n",
        "    mean_reward = np.mean(rewards_batch)\n",
        "    threshold = np.percentile(rewards_batch, percentile)\n",
        "    log.append([mean_reward, threshold])\n",
        "\n",
        "    clear_output(True)\n",
        "    print(\"mean reward = %.3f, threshold=%.3f\" % (mean_reward, threshold))\n",
        "    plt.figure(figsize=[8, 4])\n",
        "    plt.subplot(1, 2, 1)\n",
        "    plt.plot(list(zip(*log))[0], label=\"Mean rewards\")\n",
        "    plt.plot(list(zip(*log))[1], label=\"Reward thresholds\")\n",
        "    plt.legend()\n",
        "    plt.grid()\n",
        "\n",
        "    plt.subplot(1, 2, 2)\n",
        "    plt.hist(rewards_batch, range=reward_range)\n",
        "    plt.vlines(\n",
        "        [np.percentile(rewards_batch, percentile)],\n",
        "        [0],\n",
        "        [100],\n",
        "        label=\"percentile\",\n",
        "        color=\"red\",\n",
        "    )\n",
        "    plt.legend()\n",
        "    plt.grid()\n",
        "\n",
        "    plt.show()\n"
      ]
    },
    {
      "cell_type": "code",
      "execution_count": 34,
      "metadata": {
        "id": "euK7WRQiG9zM",
        "outputId": "c20e1ca7-0cc8-48fa-a88e-fde4d07a46dd",
        "colab": {
          "base_uri": "https://localhost:8080/",
          "height": 735
        }
      },
      "outputs": [
        {
          "output_type": "stream",
          "name": "stdout",
          "text": [
            "mean reward = 587.050, threshold=689.800\n"
          ]
        },
        {
          "output_type": "display_data",
          "data": {
            "text/plain": [
              "<Figure size 800x400 with 2 Axes>"
            ],
            "image/png": "[encoded data removed]"
          },
          "metadata": {}
        },
        {
          "output_type": "stream",
          "name": "stdout",
          "text": [
            "You Win! You may stop training now via KeyboardInterrupt.\n"
          ]
        },
        {
          "output_type": "error",
          "ename": "KeyboardInterrupt",
          "evalue": "",
          "traceback": [
            "\u001b[0;31m---------------------------------------------------------------------------\u001b[0m",
            "\u001b[0;31mKeyboardInterrupt\u001b[0m                         Traceback (most recent call last)",
            "\u001b[0;32m<ipython-input-34-7ccc8ebde036>\u001b[0m in \u001b[0;36m<cell line: 5>\u001b[0;34m()\u001b[0m\n\u001b[1;32m      7\u001b[0m     \u001b[0msessions\u001b[0m \u001b[0;34m=\u001b[0m \u001b[0;34m[\u001b[0m\u001b[0;34m]\u001b[0m\u001b[0;34m\u001b[0m\u001b[0;34m\u001b[0m\u001b[0m\n\u001b[1;32m      8\u001b[0m     \u001b[0;32mfor\u001b[0m \u001b[0m_\u001b[0m \u001b[0;32min\u001b[0m \u001b[0mrange\u001b[0m\u001b[0;34m(\u001b[0m\u001b[0mn_sessions\u001b[0m\u001b[0;34m)\u001b[0m\u001b[0;34m:\u001b[0m\u001b[0;34m\u001b[0m\u001b[0;34m\u001b[0m\u001b[0m\n\u001b[0;32m----> 9\u001b[0;31m         \u001b[0ms\u001b[0m\u001b[0;34m,\u001b[0m \u001b[0ma\u001b[0m\u001b[0;34m,\u001b[0m \u001b[0mr\u001b[0m \u001b[0;34m=\u001b[0m \u001b[0mgenerate_session\u001b[0m\u001b[0;34m(\u001b[0m\u001b[0menv\u001b[0m\u001b[0;34m,\u001b[0m \u001b[0magent\u001b[0m\u001b[0;34m,\u001b[0m \u001b[0mt_max\u001b[0m\u001b[0;34m=\u001b[0m\u001b[0;36m1000\u001b[0m\u001b[0;34m)\u001b[0m\u001b[0;34m\u001b[0m\u001b[0;34m\u001b[0m\u001b[0m\n\u001b[0m\u001b[1;32m     10\u001b[0m         \u001b[0msessions\u001b[0m\u001b[0;34m.\u001b[0m\u001b[0mappend\u001b[0m\u001b[0;34m(\u001b[0m\u001b[0;34m(\u001b[0m\u001b[0ms\u001b[0m\u001b[0;34m,\u001b[0m \u001b[0ma\u001b[0m\u001b[0;34m,\u001b[0m \u001b[0mr\u001b[0m\u001b[0;34m)\u001b[0m\u001b[0;34m)\u001b[0m\u001b[0;34m\u001b[0m\u001b[0;34m\u001b[0m\u001b[0m\n\u001b[1;32m     11\u001b[0m \u001b[0;34m\u001b[0m\u001b[0m\n",
            "\u001b[0;32m<ipython-input-6-392f18c1ccfd>\u001b[0m in \u001b[0;36mgenerate_session\u001b[0;34m(env, agent, t_max)\u001b[0m\n\u001b[1;32m     12\u001b[0m \u001b[0;34m\u001b[0m\u001b[0m\n\u001b[1;32m     13\u001b[0m         \u001b[0;31m# use agent to predict a vector of action probabilities for state :s:\u001b[0m\u001b[0;34m\u001b[0m\u001b[0;34m\u001b[0m\u001b[0m\n\u001b[0;32m---> 14\u001b[0;31m         \u001b[0mprobs\u001b[0m \u001b[0;34m=\u001b[0m \u001b[0magent\u001b[0m\u001b[0;34m.\u001b[0m\u001b[0mpredict_proba\u001b[0m\u001b[0;34m(\u001b[0m\u001b[0ms\u001b[0m\u001b[0;34m.\u001b[0m\u001b[0mreshape\u001b[0m\u001b[0;34m(\u001b[0m\u001b[0;36m1\u001b[0m\u001b[0;34m,\u001b[0m \u001b[0;34m-\u001b[0m\u001b[0;36m1\u001b[0m\u001b[0;34m)\u001b[0m\u001b[0;34m)\u001b[0m\u001b[0;34m.\u001b[0m\u001b[0mreshape\u001b[0m\u001b[0;34m(\u001b[0m\u001b[0;34m-\u001b[0m\u001b[0;36m1\u001b[0m\u001b[0;34m)\u001b[0m\u001b[0;34m\u001b[0m\u001b[0;34m\u001b[0m\u001b[0m\n\u001b[0m\u001b[1;32m     15\u001b[0m \u001b[0;34m\u001b[0m\u001b[0m\n\u001b[1;32m     16\u001b[0m         \u001b[0;32massert\u001b[0m \u001b[0mprobs\u001b[0m\u001b[0;34m.\u001b[0m\u001b[0mshape\u001b[0m \u001b[0;34m==\u001b[0m \u001b[0;34m(\u001b[0m\u001b[0menv\u001b[0m\u001b[0;34m.\u001b[0m\u001b[0maction_space\u001b[0m\u001b[0;34m.\u001b[0m\u001b[0mn\u001b[0m\u001b[0;34m,\u001b[0m\u001b[0;34m)\u001b[0m\u001b[0;34m,\u001b[0m \u001b[0;34m\"make sure probabilities are a vector (hint: np.reshape)\"\u001b[0m\u001b[0;34m\u001b[0m\u001b[0;34m\u001b[0m\u001b[0m\n",
            "\u001b[0;32m/usr/local/lib/python3.10/dist-packages/sklearn/neural_network/_multilayer_perceptron.py\u001b[0m in \u001b[0;36mpredict_proba\u001b[0;34m(self, X)\u001b[0m\n\u001b[1;32m   1239\u001b[0m             \u001b[0mmodel\u001b[0m\u001b[0;34m,\u001b[0m \u001b[0mwhere\u001b[0m \u001b[0mclasses\u001b[0m \u001b[0mare\u001b[0m \u001b[0mordered\u001b[0m \u001b[0;32mas\u001b[0m \u001b[0mthey\u001b[0m \u001b[0mare\u001b[0m \u001b[0;32min\u001b[0m\u001b[0;31m \u001b[0m\u001b[0;31m`\u001b[0m\u001b[0mself\u001b[0m\u001b[0;34m.\u001b[0m\u001b[0mclasses_\u001b[0m\u001b[0;31m`\u001b[0m\u001b[0;34m.\u001b[0m\u001b[0;34m\u001b[0m\u001b[0;34m\u001b[0m\u001b[0m\n\u001b[1;32m   1240\u001b[0m         \"\"\"\n\u001b[0;32m-> 1241\u001b[0;31m         \u001b[0mcheck_is_fitted\u001b[0m\u001b[0;34m(\u001b[0m\u001b[0mself\u001b[0m\u001b[0;34m)\u001b[0m\u001b[0;34m\u001b[0m\u001b[0;34m\u001b[0m\u001b[0m\n\u001b[0m\u001b[1;32m   1242\u001b[0m         \u001b[0my_pred\u001b[0m \u001b[0;34m=\u001b[0m \u001b[0mself\u001b[0m\u001b[0;34m.\u001b[0m\u001b[0m_forward_pass_fast\u001b[0m\u001b[0;34m(\u001b[0m\u001b[0mX\u001b[0m\u001b[0;34m)\u001b[0m\u001b[0;34m\u001b[0m\u001b[0;34m\u001b[0m\u001b[0m\n\u001b[1;32m   1243\u001b[0m \u001b[0;34m\u001b[0m\u001b[0m\n",
            "\u001b[0;32m/usr/local/lib/python3.10/dist-packages/sklearn/utils/validation.py\u001b[0m in \u001b[0;36mcheck_is_fitted\u001b[0;34m(estimator, attributes, msg, all_or_any)\u001b[0m\n\u001b[1;32m   1383\u001b[0m         \u001b[0mfitted\u001b[0m \u001b[0;34m=\u001b[0m \u001b[0mestimator\u001b[0m\u001b[0;34m.\u001b[0m\u001b[0m__sklearn_is_fitted__\u001b[0m\u001b[0;34m(\u001b[0m\u001b[0;34m)\u001b[0m\u001b[0;34m\u001b[0m\u001b[0;34m\u001b[0m\u001b[0m\n\u001b[1;32m   1384\u001b[0m     \u001b[0;32melse\u001b[0m\u001b[0;34m:\u001b[0m\u001b[0;34m\u001b[0m\u001b[0;34m\u001b[0m\u001b[0m\n\u001b[0;32m-> 1385\u001b[0;31m         fitted = [\n\u001b[0m\u001b[1;32m   1386\u001b[0m             \u001b[0mv\u001b[0m \u001b[0;32mfor\u001b[0m \u001b[0mv\u001b[0m \u001b[0;32min\u001b[0m \u001b[0mvars\u001b[0m\u001b[0;34m(\u001b[0m\u001b[0mestimator\u001b[0m\u001b[0;34m)\u001b[0m \u001b[0;32mif\u001b[0m \u001b[0mv\u001b[0m\u001b[0;34m.\u001b[0m\u001b[0mendswith\u001b[0m\u001b[0;34m(\u001b[0m\u001b[0;34m\"_\"\u001b[0m\u001b[0;34m)\u001b[0m \u001b[0;32mand\u001b[0m \u001b[0;32mnot\u001b[0m \u001b[0mv\u001b[0m\u001b[0;34m.\u001b[0m\u001b[0mstartswith\u001b[0m\u001b[0;34m(\u001b[0m\u001b[0;34m\"__\"\u001b[0m\u001b[0;34m)\u001b[0m\u001b[0;34m\u001b[0m\u001b[0;34m\u001b[0m\u001b[0m\n\u001b[1;32m   1387\u001b[0m         ]\n",
            "\u001b[0;32m/usr/local/lib/python3.10/dist-packages/sklearn/utils/validation.py\u001b[0m in \u001b[0;36m<listcomp>\u001b[0;34m(.0)\u001b[0m\n\u001b[1;32m   1384\u001b[0m     \u001b[0;32melse\u001b[0m\u001b[0;34m:\u001b[0m\u001b[0;34m\u001b[0m\u001b[0;34m\u001b[0m\u001b[0m\n\u001b[1;32m   1385\u001b[0m         fitted = [\n\u001b[0;32m-> 1386\u001b[0;31m             \u001b[0mv\u001b[0m \u001b[0;32mfor\u001b[0m \u001b[0mv\u001b[0m \u001b[0;32min\u001b[0m \u001b[0mvars\u001b[0m\u001b[0;34m(\u001b[0m\u001b[0mestimator\u001b[0m\u001b[0;34m)\u001b[0m \u001b[0;32mif\u001b[0m \u001b[0mv\u001b[0m\u001b[0;34m.\u001b[0m\u001b[0mendswith\u001b[0m\u001b[0;34m(\u001b[0m\u001b[0;34m\"_\"\u001b[0m\u001b[0;34m)\u001b[0m \u001b[0;32mand\u001b[0m \u001b[0;32mnot\u001b[0m \u001b[0mv\u001b[0m\u001b[0;34m.\u001b[0m\u001b[0mstartswith\u001b[0m\u001b[0;34m(\u001b[0m\u001b[0;34m\"__\"\u001b[0m\u001b[0;34m)\u001b[0m\u001b[0;34m\u001b[0m\u001b[0;34m\u001b[0m\u001b[0m\n\u001b[0m\u001b[1;32m   1387\u001b[0m         ]\n\u001b[1;32m   1388\u001b[0m \u001b[0;34m\u001b[0m\u001b[0m\n",
            "\u001b[0;31mKeyboardInterrupt\u001b[0m: "
          ]
        }
      ],
      "source": [
        "n_sessions = 100\n",
        "percentile = 70\n",
        "log = []\n",
        "\n",
        "for i in range(100):\n",
        "    # generate new sessions\n",
        "    sessions = []\n",
        "    for _ in range(n_sessions):\n",
        "        s, a, r = generate_session(env, agent, t_max=1000)\n",
        "        sessions.append((s, a, r))\n",
        "\n",
        "    # print(np.array(sessions[0][0]).shape)\n",
        "    # print(np.array(sessions[0][1]).shape)\n",
        "    # print(np.array(sessions[0][2]).shape)\n",
        "\n",
        "    # print(sessions[0][2])\n",
        "\n",
        "    # print('len sessions', len(sessions))\n",
        "    # print(sessions[0])\n",
        "\n",
        "    # for i in zip(*sessions):\n",
        "    #     print(len(i))\n",
        "    #     print(np.array(i))\n",
        "\n",
        "    states_batch, actions_batch, rewards_batch = map(list, zip(*sessions))\n",
        "\n",
        "    elite_states, elite_actions = select_elites(states_batch, actions_batch, rewards_batch, percentile)\n",
        "\n",
        "    agent.partial_fit(elite_states, elite_actions)\n",
        "\n",
        "    show_progress(\n",
        "        rewards_batch, log, percentile, reward_range=[0, np.max(rewards_batch)]\n",
        "    )\n",
        "\n",
        "    if np.mean(rewards_batch) > 190:\n",
        "        print(\"You Win! You may stop training now via KeyboardInterrupt.\")\n"
      ]
    },
    {
      "cell_type": "markdown",
      "metadata": {
        "id": "yeNWKjtsG9zM"
      },
      "source": [
        "# Results"
      ]
    },
    {
      "cell_type": "code",
      "execution_count": 35,
      "metadata": {
        "id": "RJwsWl4kG9zM",
        "outputId": "513fee3b-e710-4649-8ed8-357b78a7d326",
        "colab": {
          "base_uri": "https://localhost:8080/"
        }
      },
      "outputs": [
        {
          "output_type": "stream",
          "name": "stderr",
          "text": [
            "/usr/local/lib/python3.10/dist-packages/gymnasium/envs/registration.py:513: DeprecationWarning: \u001b[33mWARN: The environment CartPole-v0 is out of date. You should consider upgrading to version `v1`.\u001b[0m\n",
            "  logger.deprecation(\n"
          ]
        },
        {
          "output_type": "stream",
          "name": "stdout",
          "text": [
            "Moviepy - Building video /content/videos/rl-video-episode-0.mp4.\n",
            "Moviepy - Writing video /content/videos/rl-video-episode-0.mp4\n",
            "\n"
          ]
        },
        {
          "output_type": "stream",
          "name": "stderr",
          "text": []
        },
        {
          "output_type": "stream",
          "name": "stdout",
          "text": [
            "Moviepy - Done !\n",
            "Moviepy - video ready /content/videos/rl-video-episode-0.mp4\n",
            "Moviepy - Building video /content/videos/rl-video-episode-1.mp4.\n",
            "Moviepy - Writing video /content/videos/rl-video-episode-1.mp4\n",
            "\n"
          ]
        },
        {
          "output_type": "stream",
          "name": "stderr",
          "text": []
        },
        {
          "output_type": "stream",
          "name": "stdout",
          "text": [
            "Moviepy - Done !\n",
            "Moviepy - video ready /content/videos/rl-video-episode-1.mp4\n",
            "Moviepy - Building video /content/videos/rl-video-episode-2.mp4.\n",
            "Moviepy - Writing video /content/videos/rl-video-episode-2.mp4\n",
            "\n"
          ]
        },
        {
          "output_type": "stream",
          "name": "stderr",
          "text": []
        },
        {
          "output_type": "stream",
          "name": "stdout",
          "text": [
            "Moviepy - Done !\n",
            "Moviepy - video ready /content/videos/rl-video-episode-2.mp4\n",
            "Moviepy - Building video /content/videos/rl-video-episode-3.mp4.\n",
            "Moviepy - Writing video /content/videos/rl-video-episode-3.mp4\n",
            "\n"
          ]
        },
        {
          "output_type": "stream",
          "name": "stderr",
          "text": []
        },
        {
          "output_type": "stream",
          "name": "stdout",
          "text": [
            "Moviepy - Done !\n",
            "Moviepy - video ready /content/videos/rl-video-episode-3.mp4\n",
            "Moviepy - Building video /content/videos/rl-video-episode-4.mp4.\n",
            "Moviepy - Writing video /content/videos/rl-video-episode-4.mp4\n",
            "\n"
          ]
        },
        {
          "output_type": "stream",
          "name": "stderr",
          "text": []
        },
        {
          "output_type": "stream",
          "name": "stdout",
          "text": [
            "Moviepy - Done !\n",
            "Moviepy - video ready /content/videos/rl-video-episode-4.mp4\n",
            "Moviepy - Building video /content/videos/rl-video-episode-5.mp4.\n",
            "Moviepy - Writing video /content/videos/rl-video-episode-5.mp4\n",
            "\n"
          ]
        },
        {
          "output_type": "stream",
          "name": "stderr",
          "text": []
        },
        {
          "output_type": "stream",
          "name": "stdout",
          "text": [
            "Moviepy - Done !\n",
            "Moviepy - video ready /content/videos/rl-video-episode-5.mp4\n",
            "Moviepy - Building video /content/videos/rl-video-episode-6.mp4.\n",
            "Moviepy - Writing video /content/videos/rl-video-episode-6.mp4\n",
            "\n"
          ]
        },
        {
          "output_type": "stream",
          "name": "stderr",
          "text": []
        },
        {
          "output_type": "stream",
          "name": "stdout",
          "text": [
            "Moviepy - Done !\n",
            "Moviepy - video ready /content/videos/rl-video-episode-6.mp4\n",
            "Moviepy - Building video /content/videos/rl-video-episode-7.mp4.\n",
            "Moviepy - Writing video /content/videos/rl-video-episode-7.mp4\n",
            "\n"
          ]
        },
        {
          "output_type": "stream",
          "name": "stderr",
          "text": []
        },
        {
          "output_type": "stream",
          "name": "stdout",
          "text": [
            "Moviepy - Done !\n",
            "Moviepy - video ready /content/videos/rl-video-episode-7.mp4\n",
            "Moviepy - Building video /content/videos/rl-video-episode-8.mp4.\n",
            "Moviepy - Writing video /content/videos/rl-video-episode-8.mp4\n",
            "\n"
          ]
        },
        {
          "output_type": "stream",
          "name": "stderr",
          "text": []
        },
        {
          "output_type": "stream",
          "name": "stdout",
          "text": [
            "Moviepy - Done !\n",
            "Moviepy - video ready /content/videos/rl-video-episode-8.mp4\n",
            "Moviepy - Building video /content/videos/rl-video-episode-9.mp4.\n",
            "Moviepy - Writing video /content/videos/rl-video-episode-9.mp4\n",
            "\n"
          ]
        },
        {
          "output_type": "stream",
          "name": "stderr",
          "text": []
        },
        {
          "output_type": "stream",
          "name": "stdout",
          "text": [
            "Moviepy - Done !\n",
            "Moviepy - video ready /content/videos/rl-video-episode-9.mp4\n",
            "Moviepy - Building video /content/videos/rl-video-episode-10.mp4.\n",
            "Moviepy - Writing video /content/videos/rl-video-episode-10.mp4\n",
            "\n"
          ]
        },
        {
          "output_type": "stream",
          "name": "stderr",
          "text": []
        },
        {
          "output_type": "stream",
          "name": "stdout",
          "text": [
            "Moviepy - Done !\n",
            "Moviepy - video ready /content/videos/rl-video-episode-10.mp4\n",
            "Moviepy - Building video /content/videos/rl-video-episode-11.mp4.\n",
            "Moviepy - Writing video /content/videos/rl-video-episode-11.mp4\n",
            "\n"
          ]
        },
        {
          "output_type": "stream",
          "name": "stderr",
          "text": []
        },
        {
          "output_type": "stream",
          "name": "stdout",
          "text": [
            "Moviepy - Done !\n",
            "Moviepy - video ready /content/videos/rl-video-episode-11.mp4\n",
            "Moviepy - Building video /content/videos/rl-video-episode-12.mp4.\n",
            "Moviepy - Writing video /content/videos/rl-video-episode-12.mp4\n",
            "\n"
          ]
        },
        {
          "output_type": "stream",
          "name": "stderr",
          "text": []
        },
        {
          "output_type": "stream",
          "name": "stdout",
          "text": [
            "Moviepy - Done !\n",
            "Moviepy - video ready /content/videos/rl-video-episode-12.mp4\n",
            "Moviepy - Building video /content/videos/rl-video-episode-13.mp4.\n",
            "Moviepy - Writing video /content/videos/rl-video-episode-13.mp4\n",
            "\n"
          ]
        },
        {
          "output_type": "stream",
          "name": "stderr",
          "text": []
        },
        {
          "output_type": "stream",
          "name": "stdout",
          "text": [
            "Moviepy - Done !\n",
            "Moviepy - video ready /content/videos/rl-video-episode-13.mp4\n",
            "Moviepy - Building video /content/videos/rl-video-episode-14.mp4.\n",
            "Moviepy - Writing video /content/videos/rl-video-episode-14.mp4\n",
            "\n"
          ]
        },
        {
          "output_type": "stream",
          "name": "stderr",
          "text": []
        },
        {
          "output_type": "stream",
          "name": "stdout",
          "text": [
            "Moviepy - Done !\n",
            "Moviepy - video ready /content/videos/rl-video-episode-14.mp4\n",
            "Moviepy - Building video /content/videos/rl-video-episode-15.mp4.\n",
            "Moviepy - Writing video /content/videos/rl-video-episode-15.mp4\n",
            "\n"
          ]
        },
        {
          "output_type": "stream",
          "name": "stderr",
          "text": []
        },
        {
          "output_type": "stream",
          "name": "stdout",
          "text": [
            "Moviepy - Done !\n",
            "Moviepy - video ready /content/videos/rl-video-episode-15.mp4\n",
            "Moviepy - Building video /content/videos/rl-video-episode-16.mp4.\n",
            "Moviepy - Writing video /content/videos/rl-video-episode-16.mp4\n",
            "\n"
          ]
        },
        {
          "output_type": "stream",
          "name": "stderr",
          "text": []
        },
        {
          "output_type": "stream",
          "name": "stdout",
          "text": [
            "Moviepy - Done !\n",
            "Moviepy - video ready /content/videos/rl-video-episode-16.mp4\n",
            "Moviepy - Building video /content/videos/rl-video-episode-17.mp4.\n",
            "Moviepy - Writing video /content/videos/rl-video-episode-17.mp4\n",
            "\n"
          ]
        },
        {
          "output_type": "stream",
          "name": "stderr",
          "text": []
        },
        {
          "output_type": "stream",
          "name": "stdout",
          "text": [
            "Moviepy - Done !\n",
            "Moviepy - video ready /content/videos/rl-video-episode-17.mp4\n",
            "Moviepy - Building video /content/videos/rl-video-episode-18.mp4.\n",
            "Moviepy - Writing video /content/videos/rl-video-episode-18.mp4\n",
            "\n"
          ]
        },
        {
          "output_type": "stream",
          "name": "stderr",
          "text": []
        },
        {
          "output_type": "stream",
          "name": "stdout",
          "text": [
            "Moviepy - Done !\n",
            "Moviepy - video ready /content/videos/rl-video-episode-18.mp4\n",
            "Moviepy - Building video /content/videos/rl-video-episode-19.mp4.\n",
            "Moviepy - Writing video /content/videos/rl-video-episode-19.mp4\n",
            "\n"
          ]
        },
        {
          "output_type": "stream",
          "name": "stderr",
          "text": []
        },
        {
          "output_type": "stream",
          "name": "stdout",
          "text": [
            "Moviepy - Done !\n",
            "Moviepy - video ready /content/videos/rl-video-episode-19.mp4\n",
            "Moviepy - Building video /content/videos/rl-video-episode-20.mp4.\n",
            "Moviepy - Writing video /content/videos/rl-video-episode-20.mp4\n",
            "\n"
          ]
        },
        {
          "output_type": "stream",
          "name": "stderr",
          "text": []
        },
        {
          "output_type": "stream",
          "name": "stdout",
          "text": [
            "Moviepy - Done !\n",
            "Moviepy - video ready /content/videos/rl-video-episode-20.mp4\n",
            "Moviepy - Building video /content/videos/rl-video-episode-21.mp4.\n",
            "Moviepy - Writing video /content/videos/rl-video-episode-21.mp4\n",
            "\n"
          ]
        },
        {
          "output_type": "stream",
          "name": "stderr",
          "text": []
        },
        {
          "output_type": "stream",
          "name": "stdout",
          "text": [
            "Moviepy - Done !\n",
            "Moviepy - video ready /content/videos/rl-video-episode-21.mp4\n",
            "Moviepy - Building video /content/videos/rl-video-episode-22.mp4.\n",
            "Moviepy - Writing video /content/videos/rl-video-episode-22.mp4\n",
            "\n"
          ]
        },
        {
          "output_type": "stream",
          "name": "stderr",
          "text": []
        },
        {
          "output_type": "stream",
          "name": "stdout",
          "text": [
            "Moviepy - Done !\n",
            "Moviepy - video ready /content/videos/rl-video-episode-22.mp4\n",
            "Moviepy - Building video /content/videos/rl-video-episode-23.mp4.\n",
            "Moviepy - Writing video /content/videos/rl-video-episode-23.mp4\n",
            "\n"
          ]
        },
        {
          "output_type": "stream",
          "name": "stderr",
          "text": []
        },
        {
          "output_type": "stream",
          "name": "stdout",
          "text": [
            "Moviepy - Done !\n",
            "Moviepy - video ready /content/videos/rl-video-episode-23.mp4\n",
            "Moviepy - Building video /content/videos/rl-video-episode-24.mp4.\n",
            "Moviepy - Writing video /content/videos/rl-video-episode-24.mp4\n",
            "\n"
          ]
        },
        {
          "output_type": "stream",
          "name": "stderr",
          "text": []
        },
        {
          "output_type": "stream",
          "name": "stdout",
          "text": [
            "Moviepy - Done !\n",
            "Moviepy - video ready /content/videos/rl-video-episode-24.mp4\n",
            "Moviepy - Building video /content/videos/rl-video-episode-25.mp4.\n",
            "Moviepy - Writing video /content/videos/rl-video-episode-25.mp4\n",
            "\n"
          ]
        },
        {
          "output_type": "stream",
          "name": "stderr",
          "text": []
        },
        {
          "output_type": "stream",
          "name": "stdout",
          "text": [
            "Moviepy - Done !\n",
            "Moviepy - video ready /content/videos/rl-video-episode-25.mp4\n",
            "Moviepy - Building video /content/videos/rl-video-episode-26.mp4.\n",
            "Moviepy - Writing video /content/videos/rl-video-episode-26.mp4\n",
            "\n"
          ]
        },
        {
          "output_type": "stream",
          "name": "stderr",
          "text": []
        },
        {
          "output_type": "stream",
          "name": "stdout",
          "text": [
            "Moviepy - Done !\n",
            "Moviepy - video ready /content/videos/rl-video-episode-26.mp4\n",
            "Moviepy - Building video /content/videos/rl-video-episode-27.mp4.\n",
            "Moviepy - Writing video /content/videos/rl-video-episode-27.mp4\n",
            "\n"
          ]
        },
        {
          "output_type": "stream",
          "name": "stderr",
          "text": []
        },
        {
          "output_type": "stream",
          "name": "stdout",
          "text": [
            "Moviepy - Done !\n",
            "Moviepy - video ready /content/videos/rl-video-episode-27.mp4\n",
            "Moviepy - Building video /content/videos/rl-video-episode-28.mp4.\n",
            "Moviepy - Writing video /content/videos/rl-video-episode-28.mp4\n",
            "\n"
          ]
        },
        {
          "output_type": "stream",
          "name": "stderr",
          "text": []
        },
        {
          "output_type": "stream",
          "name": "stdout",
          "text": [
            "Moviepy - Done !\n",
            "Moviepy - video ready /content/videos/rl-video-episode-28.mp4\n",
            "Moviepy - Building video /content/videos/rl-video-episode-29.mp4.\n",
            "Moviepy - Writing video /content/videos/rl-video-episode-29.mp4\n",
            "\n"
          ]
        },
        {
          "output_type": "stream",
          "name": "stderr",
          "text": []
        },
        {
          "output_type": "stream",
          "name": "stdout",
          "text": [
            "Moviepy - Done !\n",
            "Moviepy - video ready /content/videos/rl-video-episode-29.mp4\n",
            "Moviepy - Building video /content/videos/rl-video-episode-30.mp4.\n",
            "Moviepy - Writing video /content/videos/rl-video-episode-30.mp4\n",
            "\n"
          ]
        },
        {
          "output_type": "stream",
          "name": "stderr",
          "text": []
        },
        {
          "output_type": "stream",
          "name": "stdout",
          "text": [
            "Moviepy - Done !\n",
            "Moviepy - video ready /content/videos/rl-video-episode-30.mp4\n",
            "Moviepy - Building video /content/videos/rl-video-episode-31.mp4.\n",
            "Moviepy - Writing video /content/videos/rl-video-episode-31.mp4\n",
            "\n"
          ]
        },
        {
          "output_type": "stream",
          "name": "stderr",
          "text": []
        },
        {
          "output_type": "stream",
          "name": "stdout",
          "text": [
            "Moviepy - Done !\n",
            "Moviepy - video ready /content/videos/rl-video-episode-31.mp4\n",
            "Moviepy - Building video /content/videos/rl-video-episode-32.mp4.\n",
            "Moviepy - Writing video /content/videos/rl-video-episode-32.mp4\n",
            "\n"
          ]
        },
        {
          "output_type": "stream",
          "name": "stderr",
          "text": []
        },
        {
          "output_type": "stream",
          "name": "stdout",
          "text": [
            "Moviepy - Done !\n",
            "Moviepy - video ready /content/videos/rl-video-episode-32.mp4\n",
            "Moviepy - Building video /content/videos/rl-video-episode-33.mp4.\n",
            "Moviepy - Writing video /content/videos/rl-video-episode-33.mp4\n",
            "\n"
          ]
        },
        {
          "output_type": "stream",
          "name": "stderr",
          "text": []
        },
        {
          "output_type": "stream",
          "name": "stdout",
          "text": [
            "Moviepy - Done !\n",
            "Moviepy - video ready /content/videos/rl-video-episode-33.mp4\n",
            "Moviepy - Building video /content/videos/rl-video-episode-34.mp4.\n",
            "Moviepy - Writing video /content/videos/rl-video-episode-34.mp4\n",
            "\n"
          ]
        },
        {
          "output_type": "stream",
          "name": "stderr",
          "text": []
        },
        {
          "output_type": "stream",
          "name": "stdout",
          "text": [
            "Moviepy - Done !\n",
            "Moviepy - video ready /content/videos/rl-video-episode-34.mp4\n",
            "Moviepy - Building video /content/videos/rl-video-episode-35.mp4.\n",
            "Moviepy - Writing video /content/videos/rl-video-episode-35.mp4\n",
            "\n"
          ]
        },
        {
          "output_type": "stream",
          "name": "stderr",
          "text": []
        },
        {
          "output_type": "stream",
          "name": "stdout",
          "text": [
            "Moviepy - Done !\n",
            "Moviepy - video ready /content/videos/rl-video-episode-35.mp4\n",
            "Moviepy - Building video /content/videos/rl-video-episode-36.mp4.\n",
            "Moviepy - Writing video /content/videos/rl-video-episode-36.mp4\n",
            "\n"
          ]
        },
        {
          "output_type": "stream",
          "name": "stderr",
          "text": []
        },
        {
          "output_type": "stream",
          "name": "stdout",
          "text": [
            "Moviepy - Done !\n",
            "Moviepy - video ready /content/videos/rl-video-episode-36.mp4\n",
            "Moviepy - Building video /content/videos/rl-video-episode-37.mp4.\n",
            "Moviepy - Writing video /content/videos/rl-video-episode-37.mp4\n",
            "\n"
          ]
        },
        {
          "output_type": "stream",
          "name": "stderr",
          "text": []
        },
        {
          "output_type": "stream",
          "name": "stdout",
          "text": [
            "Moviepy - Done !\n",
            "Moviepy - video ready /content/videos/rl-video-episode-37.mp4\n",
            "Moviepy - Building video /content/videos/rl-video-episode-38.mp4.\n",
            "Moviepy - Writing video /content/videos/rl-video-episode-38.mp4\n",
            "\n"
          ]
        },
        {
          "output_type": "stream",
          "name": "stderr",
          "text": []
        },
        {
          "output_type": "stream",
          "name": "stdout",
          "text": [
            "Moviepy - Done !\n",
            "Moviepy - video ready /content/videos/rl-video-episode-38.mp4\n",
            "Moviepy - Building video /content/videos/rl-video-episode-39.mp4.\n",
            "Moviepy - Writing video /content/videos/rl-video-episode-39.mp4\n",
            "\n"
          ]
        },
        {
          "output_type": "stream",
          "name": "stderr",
          "text": []
        },
        {
          "output_type": "stream",
          "name": "stdout",
          "text": [
            "Moviepy - Done !\n",
            "Moviepy - video ready /content/videos/rl-video-episode-39.mp4\n",
            "Moviepy - Building video /content/videos/rl-video-episode-40.mp4.\n",
            "Moviepy - Writing video /content/videos/rl-video-episode-40.mp4\n",
            "\n"
          ]
        },
        {
          "output_type": "stream",
          "name": "stderr",
          "text": []
        },
        {
          "output_type": "stream",
          "name": "stdout",
          "text": [
            "Moviepy - Done !\n",
            "Moviepy - video ready /content/videos/rl-video-episode-40.mp4\n",
            "Moviepy - Building video /content/videos/rl-video-episode-41.mp4.\n",
            "Moviepy - Writing video /content/videos/rl-video-episode-41.mp4\n",
            "\n"
          ]
        },
        {
          "output_type": "stream",
          "name": "stderr",
          "text": []
        },
        {
          "output_type": "stream",
          "name": "stdout",
          "text": [
            "Moviepy - Done !\n",
            "Moviepy - video ready /content/videos/rl-video-episode-41.mp4\n",
            "Moviepy - Building video /content/videos/rl-video-episode-42.mp4.\n",
            "Moviepy - Writing video /content/videos/rl-video-episode-42.mp4\n",
            "\n"
          ]
        },
        {
          "output_type": "stream",
          "name": "stderr",
          "text": []
        },
        {
          "output_type": "stream",
          "name": "stdout",
          "text": [
            "Moviepy - Done !\n",
            "Moviepy - video ready /content/videos/rl-video-episode-42.mp4\n",
            "Moviepy - Building video /content/videos/rl-video-episode-43.mp4.\n",
            "Moviepy - Writing video /content/videos/rl-video-episode-43.mp4\n",
            "\n"
          ]
        },
        {
          "output_type": "stream",
          "name": "stderr",
          "text": []
        },
        {
          "output_type": "stream",
          "name": "stdout",
          "text": [
            "Moviepy - Done !\n",
            "Moviepy - video ready /content/videos/rl-video-episode-43.mp4\n",
            "Moviepy - Building video /content/videos/rl-video-episode-44.mp4.\n",
            "Moviepy - Writing video /content/videos/rl-video-episode-44.mp4\n",
            "\n"
          ]
        },
        {
          "output_type": "stream",
          "name": "stderr",
          "text": []
        },
        {
          "output_type": "stream",
          "name": "stdout",
          "text": [
            "Moviepy - Done !\n",
            "Moviepy - video ready /content/videos/rl-video-episode-44.mp4\n",
            "Moviepy - Building video /content/videos/rl-video-episode-45.mp4.\n",
            "Moviepy - Writing video /content/videos/rl-video-episode-45.mp4\n",
            "\n"
          ]
        },
        {
          "output_type": "stream",
          "name": "stderr",
          "text": []
        },
        {
          "output_type": "stream",
          "name": "stdout",
          "text": [
            "Moviepy - Done !\n",
            "Moviepy - video ready /content/videos/rl-video-episode-45.mp4\n",
            "Moviepy - Building video /content/videos/rl-video-episode-46.mp4.\n",
            "Moviepy - Writing video /content/videos/rl-video-episode-46.mp4\n",
            "\n"
          ]
        },
        {
          "output_type": "stream",
          "name": "stderr",
          "text": []
        },
        {
          "output_type": "stream",
          "name": "stdout",
          "text": [
            "Moviepy - Done !\n",
            "Moviepy - video ready /content/videos/rl-video-episode-46.mp4\n",
            "Moviepy - Building video /content/videos/rl-video-episode-47.mp4.\n",
            "Moviepy - Writing video /content/videos/rl-video-episode-47.mp4\n",
            "\n"
          ]
        },
        {
          "output_type": "stream",
          "name": "stderr",
          "text": []
        },
        {
          "output_type": "stream",
          "name": "stdout",
          "text": [
            "Moviepy - Done !\n",
            "Moviepy - video ready /content/videos/rl-video-episode-47.mp4\n",
            "Moviepy - Building video /content/videos/rl-video-episode-48.mp4.\n",
            "Moviepy - Writing video /content/videos/rl-video-episode-48.mp4\n",
            "\n"
          ]
        },
        {
          "output_type": "stream",
          "name": "stderr",
          "text": []
        },
        {
          "output_type": "stream",
          "name": "stdout",
          "text": [
            "Moviepy - Done !\n",
            "Moviepy - video ready /content/videos/rl-video-episode-48.mp4\n",
            "Moviepy - Building video /content/videos/rl-video-episode-49.mp4.\n",
            "Moviepy - Writing video /content/videos/rl-video-episode-49.mp4\n",
            "\n"
          ]
        },
        {
          "output_type": "stream",
          "name": "stderr",
          "text": []
        },
        {
          "output_type": "stream",
          "name": "stdout",
          "text": [
            "Moviepy - Done !\n",
            "Moviepy - video ready /content/videos/rl-video-episode-49.mp4\n",
            "Moviepy - Building video /content/videos/rl-video-episode-50.mp4.\n",
            "Moviepy - Writing video /content/videos/rl-video-episode-50.mp4\n",
            "\n"
          ]
        },
        {
          "output_type": "stream",
          "name": "stderr",
          "text": []
        },
        {
          "output_type": "stream",
          "name": "stdout",
          "text": [
            "Moviepy - Done !\n",
            "Moviepy - video ready /content/videos/rl-video-episode-50.mp4\n",
            "Moviepy - Building video /content/videos/rl-video-episode-51.mp4.\n",
            "Moviepy - Writing video /content/videos/rl-video-episode-51.mp4\n",
            "\n"
          ]
        },
        {
          "output_type": "stream",
          "name": "stderr",
          "text": []
        },
        {
          "output_type": "stream",
          "name": "stdout",
          "text": [
            "Moviepy - Done !\n",
            "Moviepy - video ready /content/videos/rl-video-episode-51.mp4\n",
            "Moviepy - Building video /content/videos/rl-video-episode-52.mp4.\n",
            "Moviepy - Writing video /content/videos/rl-video-episode-52.mp4\n",
            "\n"
          ]
        },
        {
          "output_type": "stream",
          "name": "stderr",
          "text": []
        },
        {
          "output_type": "stream",
          "name": "stdout",
          "text": [
            "Moviepy - Done !\n",
            "Moviepy - video ready /content/videos/rl-video-episode-52.mp4\n",
            "Moviepy - Building video /content/videos/rl-video-episode-53.mp4.\n",
            "Moviepy - Writing video /content/videos/rl-video-episode-53.mp4\n",
            "\n"
          ]
        },
        {
          "output_type": "stream",
          "name": "stderr",
          "text": []
        },
        {
          "output_type": "stream",
          "name": "stdout",
          "text": [
            "Moviepy - Done !\n",
            "Moviepy - video ready /content/videos/rl-video-episode-53.mp4\n",
            "Moviepy - Building video /content/videos/rl-video-episode-54.mp4.\n",
            "Moviepy - Writing video /content/videos/rl-video-episode-54.mp4\n",
            "\n"
          ]
        },
        {
          "output_type": "stream",
          "name": "stderr",
          "text": []
        },
        {
          "output_type": "stream",
          "name": "stdout",
          "text": [
            "Moviepy - Done !\n",
            "Moviepy - video ready /content/videos/rl-video-episode-54.mp4\n",
            "Moviepy - Building video /content/videos/rl-video-episode-55.mp4.\n",
            "Moviepy - Writing video /content/videos/rl-video-episode-55.mp4\n",
            "\n"
          ]
        },
        {
          "output_type": "stream",
          "name": "stderr",
          "text": []
        },
        {
          "output_type": "stream",
          "name": "stdout",
          "text": [
            "Moviepy - Done !\n",
            "Moviepy - video ready /content/videos/rl-video-episode-55.mp4\n",
            "Moviepy - Building video /content/videos/rl-video-episode-56.mp4.\n",
            "Moviepy - Writing video /content/videos/rl-video-episode-56.mp4\n",
            "\n"
          ]
        },
        {
          "output_type": "stream",
          "name": "stderr",
          "text": []
        },
        {
          "output_type": "stream",
          "name": "stdout",
          "text": [
            "Moviepy - Done !\n",
            "Moviepy - video ready /content/videos/rl-video-episode-56.mp4\n",
            "Moviepy - Building video /content/videos/rl-video-episode-57.mp4.\n",
            "Moviepy - Writing video /content/videos/rl-video-episode-57.mp4\n",
            "\n"
          ]
        },
        {
          "output_type": "stream",
          "name": "stderr",
          "text": []
        },
        {
          "output_type": "stream",
          "name": "stdout",
          "text": [
            "Moviepy - Done !\n",
            "Moviepy - video ready /content/videos/rl-video-episode-57.mp4\n",
            "Moviepy - Building video /content/videos/rl-video-episode-58.mp4.\n",
            "Moviepy - Writing video /content/videos/rl-video-episode-58.mp4\n",
            "\n"
          ]
        },
        {
          "output_type": "stream",
          "name": "stderr",
          "text": []
        },
        {
          "output_type": "stream",
          "name": "stdout",
          "text": [
            "Moviepy - Done !\n",
            "Moviepy - video ready /content/videos/rl-video-episode-58.mp4\n",
            "Moviepy - Building video /content/videos/rl-video-episode-59.mp4.\n",
            "Moviepy - Writing video /content/videos/rl-video-episode-59.mp4\n",
            "\n"
          ]
        },
        {
          "output_type": "stream",
          "name": "stderr",
          "text": []
        },
        {
          "output_type": "stream",
          "name": "stdout",
          "text": [
            "Moviepy - Done !\n",
            "Moviepy - video ready /content/videos/rl-video-episode-59.mp4\n",
            "Moviepy - Building video /content/videos/rl-video-episode-60.mp4.\n",
            "Moviepy - Writing video /content/videos/rl-video-episode-60.mp4\n",
            "\n"
          ]
        },
        {
          "output_type": "stream",
          "name": "stderr",
          "text": []
        },
        {
          "output_type": "stream",
          "name": "stdout",
          "text": [
            "Moviepy - Done !\n",
            "Moviepy - video ready /content/videos/rl-video-episode-60.mp4\n",
            "Moviepy - Building video /content/videos/rl-video-episode-61.mp4.\n",
            "Moviepy - Writing video /content/videos/rl-video-episode-61.mp4\n",
            "\n"
          ]
        },
        {
          "output_type": "stream",
          "name": "stderr",
          "text": []
        },
        {
          "output_type": "stream",
          "name": "stdout",
          "text": [
            "Moviepy - Done !\n",
            "Moviepy - video ready /content/videos/rl-video-episode-61.mp4\n",
            "Moviepy - Building video /content/videos/rl-video-episode-62.mp4.\n",
            "Moviepy - Writing video /content/videos/rl-video-episode-62.mp4\n",
            "\n"
          ]
        },
        {
          "output_type": "stream",
          "name": "stderr",
          "text": []
        },
        {
          "output_type": "stream",
          "name": "stdout",
          "text": [
            "Moviepy - Done !\n",
            "Moviepy - video ready /content/videos/rl-video-episode-62.mp4\n",
            "Moviepy - Building video /content/videos/rl-video-episode-63.mp4.\n",
            "Moviepy - Writing video /content/videos/rl-video-episode-63.mp4\n",
            "\n"
          ]
        },
        {
          "output_type": "stream",
          "name": "stderr",
          "text": []
        },
        {
          "output_type": "stream",
          "name": "stdout",
          "text": [
            "Moviepy - Done !\n",
            "Moviepy - video ready /content/videos/rl-video-episode-63.mp4\n",
            "Moviepy - Building video /content/videos/rl-video-episode-64.mp4.\n",
            "Moviepy - Writing video /content/videos/rl-video-episode-64.mp4\n",
            "\n"
          ]
        },
        {
          "output_type": "stream",
          "name": "stderr",
          "text": []
        },
        {
          "output_type": "stream",
          "name": "stdout",
          "text": [
            "Moviepy - Done !\n",
            "Moviepy - video ready /content/videos/rl-video-episode-64.mp4\n",
            "Moviepy - Building video /content/videos/rl-video-episode-65.mp4.\n",
            "Moviepy - Writing video /content/videos/rl-video-episode-65.mp4\n",
            "\n"
          ]
        },
        {
          "output_type": "stream",
          "name": "stderr",
          "text": []
        },
        {
          "output_type": "stream",
          "name": "stdout",
          "text": [
            "Moviepy - Done !\n",
            "Moviepy - video ready /content/videos/rl-video-episode-65.mp4\n",
            "Moviepy - Building video /content/videos/rl-video-episode-66.mp4.\n",
            "Moviepy - Writing video /content/videos/rl-video-episode-66.mp4\n",
            "\n"
          ]
        },
        {
          "output_type": "stream",
          "name": "stderr",
          "text": []
        },
        {
          "output_type": "stream",
          "name": "stdout",
          "text": [
            "Moviepy - Done !\n",
            "Moviepy - video ready /content/videos/rl-video-episode-66.mp4\n",
            "Moviepy - Building video /content/videos/rl-video-episode-67.mp4.\n",
            "Moviepy - Writing video /content/videos/rl-video-episode-67.mp4\n",
            "\n"
          ]
        },
        {
          "output_type": "stream",
          "name": "stderr",
          "text": []
        },
        {
          "output_type": "stream",
          "name": "stdout",
          "text": [
            "Moviepy - Done !\n",
            "Moviepy - video ready /content/videos/rl-video-episode-67.mp4\n",
            "Moviepy - Building video /content/videos/rl-video-episode-68.mp4.\n",
            "Moviepy - Writing video /content/videos/rl-video-episode-68.mp4\n",
            "\n"
          ]
        },
        {
          "output_type": "stream",
          "name": "stderr",
          "text": []
        },
        {
          "output_type": "stream",
          "name": "stdout",
          "text": [
            "Moviepy - Done !\n",
            "Moviepy - video ready /content/videos/rl-video-episode-68.mp4\n",
            "Moviepy - Building video /content/videos/rl-video-episode-69.mp4.\n",
            "Moviepy - Writing video /content/videos/rl-video-episode-69.mp4\n",
            "\n"
          ]
        },
        {
          "output_type": "stream",
          "name": "stderr",
          "text": []
        },
        {
          "output_type": "stream",
          "name": "stdout",
          "text": [
            "Moviepy - Done !\n",
            "Moviepy - video ready /content/videos/rl-video-episode-69.mp4\n",
            "Moviepy - Building video /content/videos/rl-video-episode-70.mp4.\n",
            "Moviepy - Writing video /content/videos/rl-video-episode-70.mp4\n",
            "\n"
          ]
        },
        {
          "output_type": "stream",
          "name": "stderr",
          "text": []
        },
        {
          "output_type": "stream",
          "name": "stdout",
          "text": [
            "Moviepy - Done !\n",
            "Moviepy - video ready /content/videos/rl-video-episode-70.mp4\n",
            "Moviepy - Building video /content/videos/rl-video-episode-71.mp4.\n",
            "Moviepy - Writing video /content/videos/rl-video-episode-71.mp4\n",
            "\n"
          ]
        },
        {
          "output_type": "stream",
          "name": "stderr",
          "text": []
        },
        {
          "output_type": "stream",
          "name": "stdout",
          "text": [
            "Moviepy - Done !\n",
            "Moviepy - video ready /content/videos/rl-video-episode-71.mp4\n",
            "Moviepy - Building video /content/videos/rl-video-episode-72.mp4.\n",
            "Moviepy - Writing video /content/videos/rl-video-episode-72.mp4\n",
            "\n"
          ]
        },
        {
          "output_type": "stream",
          "name": "stderr",
          "text": []
        },
        {
          "output_type": "stream",
          "name": "stdout",
          "text": [
            "Moviepy - Done !\n",
            "Moviepy - video ready /content/videos/rl-video-episode-72.mp4\n",
            "Moviepy - Building video /content/videos/rl-video-episode-73.mp4.\n",
            "Moviepy - Writing video /content/videos/rl-video-episode-73.mp4\n",
            "\n"
          ]
        },
        {
          "output_type": "stream",
          "name": "stderr",
          "text": []
        },
        {
          "output_type": "stream",
          "name": "stdout",
          "text": [
            "Moviepy - Done !\n",
            "Moviepy - video ready /content/videos/rl-video-episode-73.mp4\n",
            "Moviepy - Building video /content/videos/rl-video-episode-74.mp4.\n",
            "Moviepy - Writing video /content/videos/rl-video-episode-74.mp4\n",
            "\n"
          ]
        },
        {
          "output_type": "stream",
          "name": "stderr",
          "text": []
        },
        {
          "output_type": "stream",
          "name": "stdout",
          "text": [
            "Moviepy - Done !\n",
            "Moviepy - video ready /content/videos/rl-video-episode-74.mp4\n",
            "Moviepy - Building video /content/videos/rl-video-episode-75.mp4.\n",
            "Moviepy - Writing video /content/videos/rl-video-episode-75.mp4\n",
            "\n"
          ]
        },
        {
          "output_type": "stream",
          "name": "stderr",
          "text": []
        },
        {
          "output_type": "stream",
          "name": "stdout",
          "text": [
            "Moviepy - Done !\n",
            "Moviepy - video ready /content/videos/rl-video-episode-75.mp4\n",
            "Moviepy - Building video /content/videos/rl-video-episode-76.mp4.\n",
            "Moviepy - Writing video /content/videos/rl-video-episode-76.mp4\n",
            "\n"
          ]
        },
        {
          "output_type": "stream",
          "name": "stderr",
          "text": []
        },
        {
          "output_type": "stream",
          "name": "stdout",
          "text": [
            "Moviepy - Done !\n",
            "Moviepy - video ready /content/videos/rl-video-episode-76.mp4\n",
            "Moviepy - Building video /content/videos/rl-video-episode-77.mp4.\n",
            "Moviepy - Writing video /content/videos/rl-video-episode-77.mp4\n",
            "\n"
          ]
        },
        {
          "output_type": "stream",
          "name": "stderr",
          "text": []
        },
        {
          "output_type": "stream",
          "name": "stdout",
          "text": [
            "Moviepy - Done !\n",
            "Moviepy - video ready /content/videos/rl-video-episode-77.mp4\n",
            "Moviepy - Building video /content/videos/rl-video-episode-78.mp4.\n",
            "Moviepy - Writing video /content/videos/rl-video-episode-78.mp4\n",
            "\n"
          ]
        },
        {
          "output_type": "stream",
          "name": "stderr",
          "text": []
        },
        {
          "output_type": "stream",
          "name": "stdout",
          "text": [
            "Moviepy - Done !\n",
            "Moviepy - video ready /content/videos/rl-video-episode-78.mp4\n",
            "Moviepy - Building video /content/videos/rl-video-episode-79.mp4.\n",
            "Moviepy - Writing video /content/videos/rl-video-episode-79.mp4\n",
            "\n"
          ]
        },
        {
          "output_type": "stream",
          "name": "stderr",
          "text": []
        },
        {
          "output_type": "stream",
          "name": "stdout",
          "text": [
            "Moviepy - Done !\n",
            "Moviepy - video ready /content/videos/rl-video-episode-79.mp4\n",
            "Moviepy - Building video /content/videos/rl-video-episode-80.mp4.\n",
            "Moviepy - Writing video /content/videos/rl-video-episode-80.mp4\n",
            "\n"
          ]
        },
        {
          "output_type": "stream",
          "name": "stderr",
          "text": []
        },
        {
          "output_type": "stream",
          "name": "stdout",
          "text": [
            "Moviepy - Done !\n",
            "Moviepy - video ready /content/videos/rl-video-episode-80.mp4\n",
            "Moviepy - Building video /content/videos/rl-video-episode-81.mp4.\n",
            "Moviepy - Writing video /content/videos/rl-video-episode-81.mp4\n",
            "\n"
          ]
        },
        {
          "output_type": "stream",
          "name": "stderr",
          "text": []
        },
        {
          "output_type": "stream",
          "name": "stdout",
          "text": [
            "Moviepy - Done !\n",
            "Moviepy - video ready /content/videos/rl-video-episode-81.mp4\n",
            "Moviepy - Building video /content/videos/rl-video-episode-82.mp4.\n",
            "Moviepy - Writing video /content/videos/rl-video-episode-82.mp4\n",
            "\n"
          ]
        },
        {
          "output_type": "stream",
          "name": "stderr",
          "text": []
        },
        {
          "output_type": "stream",
          "name": "stdout",
          "text": [
            "Moviepy - Done !\n",
            "Moviepy - video ready /content/videos/rl-video-episode-82.mp4\n",
            "Moviepy - Building video /content/videos/rl-video-episode-83.mp4.\n",
            "Moviepy - Writing video /content/videos/rl-video-episode-83.mp4\n",
            "\n"
          ]
        },
        {
          "output_type": "stream",
          "name": "stderr",
          "text": []
        },
        {
          "output_type": "stream",
          "name": "stdout",
          "text": [
            "Moviepy - Done !\n",
            "Moviepy - video ready /content/videos/rl-video-episode-83.mp4\n",
            "Moviepy - Building video /content/videos/rl-video-episode-84.mp4.\n",
            "Moviepy - Writing video /content/videos/rl-video-episode-84.mp4\n",
            "\n"
          ]
        },
        {
          "output_type": "stream",
          "name": "stderr",
          "text": []
        },
        {
          "output_type": "stream",
          "name": "stdout",
          "text": [
            "Moviepy - Done !\n",
            "Moviepy - video ready /content/videos/rl-video-episode-84.mp4\n",
            "Moviepy - Building video /content/videos/rl-video-episode-85.mp4.\n",
            "Moviepy - Writing video /content/videos/rl-video-episode-85.mp4\n",
            "\n"
          ]
        },
        {
          "output_type": "stream",
          "name": "stderr",
          "text": []
        },
        {
          "output_type": "stream",
          "name": "stdout",
          "text": [
            "Moviepy - Done !\n",
            "Moviepy - video ready /content/videos/rl-video-episode-85.mp4\n",
            "Moviepy - Building video /content/videos/rl-video-episode-86.mp4.\n",
            "Moviepy - Writing video /content/videos/rl-video-episode-86.mp4\n",
            "\n"
          ]
        },
        {
          "output_type": "stream",
          "name": "stderr",
          "text": []
        },
        {
          "output_type": "stream",
          "name": "stdout",
          "text": [
            "Moviepy - Done !\n",
            "Moviepy - video ready /content/videos/rl-video-episode-86.mp4\n",
            "Moviepy - Building video /content/videos/rl-video-episode-87.mp4.\n",
            "Moviepy - Writing video /content/videos/rl-video-episode-87.mp4\n",
            "\n"
          ]
        },
        {
          "output_type": "stream",
          "name": "stderr",
          "text": []
        },
        {
          "output_type": "stream",
          "name": "stdout",
          "text": [
            "Moviepy - Done !\n",
            "Moviepy - video ready /content/videos/rl-video-episode-87.mp4\n",
            "Moviepy - Building video /content/videos/rl-video-episode-88.mp4.\n",
            "Moviepy - Writing video /content/videos/rl-video-episode-88.mp4\n",
            "\n"
          ]
        },
        {
          "output_type": "stream",
          "name": "stderr",
          "text": []
        },
        {
          "output_type": "stream",
          "name": "stdout",
          "text": [
            "Moviepy - Done !\n",
            "Moviepy - video ready /content/videos/rl-video-episode-88.mp4\n",
            "Moviepy - Building video /content/videos/rl-video-episode-89.mp4.\n",
            "Moviepy - Writing video /content/videos/rl-video-episode-89.mp4\n",
            "\n"
          ]
        },
        {
          "output_type": "stream",
          "name": "stderr",
          "text": []
        },
        {
          "output_type": "stream",
          "name": "stdout",
          "text": [
            "Moviepy - Done !\n",
            "Moviepy - video ready /content/videos/rl-video-episode-89.mp4\n",
            "Moviepy - Building video /content/videos/rl-video-episode-90.mp4.\n",
            "Moviepy - Writing video /content/videos/rl-video-episode-90.mp4\n",
            "\n"
          ]
        },
        {
          "output_type": "stream",
          "name": "stderr",
          "text": []
        },
        {
          "output_type": "stream",
          "name": "stdout",
          "text": [
            "Moviepy - Done !\n",
            "Moviepy - video ready /content/videos/rl-video-episode-90.mp4\n",
            "Moviepy - Building video /content/videos/rl-video-episode-91.mp4.\n",
            "Moviepy - Writing video /content/videos/rl-video-episode-91.mp4\n",
            "\n"
          ]
        },
        {
          "output_type": "stream",
          "name": "stderr",
          "text": []
        },
        {
          "output_type": "stream",
          "name": "stdout",
          "text": [
            "Moviepy - Done !\n",
            "Moviepy - video ready /content/videos/rl-video-episode-91.mp4\n",
            "Moviepy - Building video /content/videos/rl-video-episode-92.mp4.\n",
            "Moviepy - Writing video /content/videos/rl-video-episode-92.mp4\n",
            "\n"
          ]
        },
        {
          "output_type": "stream",
          "name": "stderr",
          "text": []
        },
        {
          "output_type": "stream",
          "name": "stdout",
          "text": [
            "Moviepy - Done !\n",
            "Moviepy - video ready /content/videos/rl-video-episode-92.mp4\n",
            "Moviepy - Building video /content/videos/rl-video-episode-93.mp4.\n",
            "Moviepy - Writing video /content/videos/rl-video-episode-93.mp4\n",
            "\n"
          ]
        },
        {
          "output_type": "stream",
          "name": "stderr",
          "text": []
        },
        {
          "output_type": "stream",
          "name": "stdout",
          "text": [
            "Moviepy - Done !\n",
            "Moviepy - video ready /content/videos/rl-video-episode-93.mp4\n",
            "Moviepy - Building video /content/videos/rl-video-episode-94.mp4.\n",
            "Moviepy - Writing video /content/videos/rl-video-episode-94.mp4\n",
            "\n"
          ]
        },
        {
          "output_type": "stream",
          "name": "stderr",
          "text": []
        },
        {
          "output_type": "stream",
          "name": "stdout",
          "text": [
            "Moviepy - Done !\n",
            "Moviepy - video ready /content/videos/rl-video-episode-94.mp4\n",
            "Moviepy - Building video /content/videos/rl-video-episode-95.mp4.\n",
            "Moviepy - Writing video /content/videos/rl-video-episode-95.mp4\n",
            "\n"
          ]
        },
        {
          "output_type": "stream",
          "name": "stderr",
          "text": []
        },
        {
          "output_type": "stream",
          "name": "stdout",
          "text": [
            "Moviepy - Done !\n",
            "Moviepy - video ready /content/videos/rl-video-episode-95.mp4\n",
            "Moviepy - Building video /content/videos/rl-video-episode-96.mp4.\n",
            "Moviepy - Writing video /content/videos/rl-video-episode-96.mp4\n",
            "\n"
          ]
        },
        {
          "output_type": "stream",
          "name": "stderr",
          "text": []
        },
        {
          "output_type": "stream",
          "name": "stdout",
          "text": [
            "Moviepy - Done !\n",
            "Moviepy - video ready /content/videos/rl-video-episode-96.mp4\n",
            "Moviepy - Building video /content/videos/rl-video-episode-97.mp4.\n",
            "Moviepy - Writing video /content/videos/rl-video-episode-97.mp4\n",
            "\n"
          ]
        },
        {
          "output_type": "stream",
          "name": "stderr",
          "text": []
        },
        {
          "output_type": "stream",
          "name": "stdout",
          "text": [
            "Moviepy - Done !\n",
            "Moviepy - video ready /content/videos/rl-video-episode-97.mp4\n",
            "Moviepy - Building video /content/videos/rl-video-episode-98.mp4.\n",
            "Moviepy - Writing video /content/videos/rl-video-episode-98.mp4\n",
            "\n"
          ]
        },
        {
          "output_type": "stream",
          "name": "stderr",
          "text": []
        },
        {
          "output_type": "stream",
          "name": "stdout",
          "text": [
            "Moviepy - Done !\n",
            "Moviepy - video ready /content/videos/rl-video-episode-98.mp4\n",
            "Moviepy - Building video /content/videos/rl-video-episode-99.mp4.\n",
            "Moviepy - Writing video /content/videos/rl-video-episode-99.mp4\n",
            "\n"
          ]
        },
        {
          "output_type": "stream",
          "name": "stderr",
          "text": []
        },
        {
          "output_type": "stream",
          "name": "stdout",
          "text": [
            "Moviepy - Done !\n",
            "Moviepy - video ready /content/videos/rl-video-episode-99.mp4\n"
          ]
        }
      ],
      "source": [
        "# Record sessions\n",
        "\n",
        "from gymnasium.wrappers import RecordVideo\n",
        "\n",
        "with RecordVideo(\n",
        "    env=gym.make(\"CartPole-v0\", render_mode=\"rgb_array\"),\n",
        "    video_folder=\"./videos\",\n",
        "    episode_trigger=lambda episode_number: True,\n",
        ") as env_monitor:\n",
        "    sessions = [generate_session(env_monitor, agent) for _ in range(100)]\n"
      ]
    },
    {
      "cell_type": "code",
      "execution_count": 37,
      "metadata": {
        "id": "kLPXdME7G9zN",
        "outputId": "12dbba9e-b924-4c4a-ee52-77cd7f7151fa",
        "colab": {
          "base_uri": "https://localhost:8080/",
          "height": 501
        }
      },
      "outputs": [
        {
          "output_type": "execute_result",
          "data": {
            "text/plain": [
              "<IPython.core.display.HTML object>"
            ],
            "text/html": [
              "\n",
              "<video width=\"640\" height=\"480\" controls>\n",
              "  <source src=\"data:video/mp4;base64,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\" type=\"video/mp4\">\n",
              "</video>\n"
            ]
          },
          "metadata": {},
          "execution_count": 37
        }
      ],
      "source": [
        "# Show video. This may not work in some setups. If it doesn't\n",
        "# work for you, you can download the videos and view them locally.\n",
        "\n",
        "from pathlib import Path\n",
        "from base64 import b64encode\n",
        "from IPython.display import HTML\n",
        "\n",
        "video_paths = sorted([s for s in Path(\"videos\").iterdir() if s.suffix == \".mp4\"])\n",
        "video_path = video_paths[1]  # You can also try other indices\n",
        "\n",
        "if \"google.colab\" in sys.modules:\n",
        "    # https://stackoverflow.com/a/57378660/1214547\n",
        "    with video_path.open(\"rb\") as fp:\n",
        "        mp4 = fp.read()\n",
        "    data_url = \"data:video/mp4;base64,\" + b64encode(mp4).decode()\n",
        "else:\n",
        "    data_url = str(video_path)\n",
        "\n",
        "HTML(\n",
        "    \"\"\"\n",
        "<video width=\"640\" height=\"480\" controls>\n",
        "  <source src=\"{}\" type=\"video/mp4\">\n",
        "</video>\n",
        "\"\"\".format(\n",
        "        data_url\n",
        "    )\n",
        ")\n"
      ]
    },
    {
      "cell_type": "markdown",
      "metadata": {
        "id": "6d_3oOQ1G9zN"
      },
      "source": [
        "# Homework part I\n",
        "\n",
        "### Tabular crossentropy method\n",
        "\n",
        "You may have noticed that the taxi problem quickly converges from -100 to a near-optimal score and then descends back into -50/-100. This is in part because the environment has some innate randomness. Namely, the starting points of passenger/driver change from episode to episode.\n",
        "\n",
        "### Tasks\n",
        "- __1.1__ (2 pts) Find out how the algorithm performance changes if you use a different `percentile` and/or `n_sessions`. Provide here some figures so we can see how the hyperparameters influence the performance.\n",
        "- __1.2__ (1 pts) Tune the algorithm to end up with positive average score.\n",
        "\n",
        "It's okay to modify the existing code.\n"
      ]
    },
    {
      "cell_type": "markdown",
      "metadata": {
        "id": "L88LySiVG9zN"
      },
      "source": [
        "```<Describe what you did here>```"
      ]
    },
    {
      "cell_type": "markdown",
      "metadata": {
        "id": "7LpAJc4rG9zN"
      },
      "source": [
        "# Homework part II\n",
        "\n",
        "### Deep crossentropy method\n",
        "\n",
        "By this moment, you should have got enough score on [CartPole-v0](https://gymnasium.farama.org/environments/classic_control/cart_pole/) to consider it solved (see the link). It's time to try something harder.\n",
        "\n",
        "* if you have any trouble with CartPole-v0 and feel stuck, feel free to ask us or your peers for help.\n",
        "\n",
        "### Tasks\n",
        "\n",
        "* __2.1__ (3 pts) Pick one of environments: `MountainCar-v0` or `LunarLander-v2`.\n",
        "  * For MountainCar, get average reward of __at least -150__\n",
        "  * For LunarLander, get average reward of __at least +50__\n",
        "\n",
        "See the tips section below, it's kinda important.\n",
        "__Note:__ If your agent is below the target score, you'll still get some of the points depending on the result, so don't be afraid to submit it.\n",
        "  \n",
        "  \n",
        "* __2.2__ (up to 6 pts) Devise a way to speed up training against the default version\n",
        "  * Obvious improvement: use [`joblib`](https://joblib.readthedocs.io/en/latest/). However, note that you will probably need to spawn a new environment in each of the workers instead of passing it via pickling. (2 pts)\n",
        "  * Try re-using samples from 3-5 last iterations when computing threshold and training. (2 pts)\n",
        "  * Obtain __-100__ at `MountainCar-v0` or __+200__ at `LunarLander-v2` (2 pts). Feel free to experiment with hyperparameters, architectures, schedules etc.\n",
        "  \n",
        "__Please list what you did in Anytask submission form__. This reduces probability that somebody misses something.\n",
        "  \n",
        "  \n",
        "### Tips\n",
        "* Gymnasium pages: [MountainCar](https://gymnasium.farama.org/environments/classic_control/mountain_car/), [LunarLander](https://gymnasium.farama.org/environments/box2d/lunar_lander/)\n",
        "* Sessions for MountainCar may last for 10k+ ticks. Make sure ```t_max``` param is at least 10k.\n",
        " * Also it may be a good idea to cut rewards via \">\" and not \">=\". If 90% of your sessions get reward of -10k and 10% are better, than if you use percentile 20% as threshold, R >= threshold __fails to cut off bad sessions__ while R > threshold works alright.\n",
        "* _issue with gym_: Some versions of gym limit game time by 200 ticks. This will prevent cem training in most cases. Make sure your agent is able to play for the specified __t_max__, and if it isn't, try `env = gym.make(\"MountainCar-v0\").env` or otherwise get rid of TimeLimit wrapper.\n",
        "* If you use old _swig_ lib for LunarLander-v2, you may get an error. See this [issue](https://github.com/openai/gym/issues/100) for solution.\n",
        "* If it doesn't train, it's a good idea to plot reward distribution and record sessions: they may give you some clue. If they don't, call course staff :)\n",
        "* 20-neuron network is probably not enough, feel free to experiment.\n",
        "\n",
        "You may find the following snippet useful:"
      ]
    },
    {
      "cell_type": "code",
      "source": [
        "env = gym.make(\"MountainCar-v0\", render_mode=\"rgb_array\").env\n",
        "\n",
        "env.reset()\n",
        "n_actions = env.action_space.n\n",
        "state_dim = env.observation_space.shape[0]\n",
        "\n",
        "plt.imshow(env.render())\n",
        "print(\"state vector dim =\", state_dim)\n",
        "print(\"n_actions =\", n_actions)\n",
        "\n",
        "env.close()\n",
        "\n",
        "def create_env():\n",
        "    env = gym.make(\"MountainCar-v0\", render_mode=\"rgb_array\").env\n",
        "    env.reset()\n",
        "    env.close()\n",
        "    return env"
      ],
      "metadata": {
        "id": "GusY0cwD_7Ug",
        "outputId": "2b1f6d60-e99d-4810-c938-f40b5b28877e",
        "colab": {
          "base_uri": "https://localhost:8080/",
          "height": 430
        }
      },
      "execution_count": 10,
      "outputs": [
        {
          "output_type": "stream",
          "name": "stdout",
          "text": [
            "state vector dim = 2\n",
            "n_actions = 3\n"
          ]
        },
        {
          "output_type": "display_data",
          "data": {
            "text/plain": [
              "<Figure size 640x480 with 1 Axes>"
            ],
            "image/png": "[encoded data removed]"
          },
          "metadata": {}
        }
      ]
    },
    {
      "cell_type": "code",
      "source": [
        "agent = MLPClassifier(\n",
        "    hidden_layer_sizes=(20, 20),\n",
        "    activation=\"tanh\",\n",
        ")\n",
        "\n",
        "# initialize agent to the dimension of state space and number of actions\n",
        "agent.partial_fit([env.reset()[0]] * n_actions, range(n_actions), range(n_actions))"
      ],
      "metadata": {
        "id": "jcSkjRR0AZYC",
        "outputId": "f1d2da46-7389-45f3-d372-ac9adc707f56",
        "colab": {
          "base_uri": "https://localhost:8080/",
          "height": 74
        }
      },
      "execution_count": 11,
      "outputs": [
        {
          "output_type": "execute_result",
          "data": {
            "text/plain": [
              "MLPClassifier(activation='tanh', hidden_layer_sizes=(20, 20))"
            ],
            "text/html": [
              "<style>#sk-container-id-2 {color: black;background-color: white;}#sk-container-id-2 pre{padding: 0;}#sk-container-id-2 div.sk-toggleable {background-color: white;}#sk-container-id-2 label.sk-toggleable__label {cursor: pointer;display: block;width: 100%;margin-bottom: 0;padding: 0.3em;box-sizing: border-box;text-align: center;}#sk-container-id-2 label.sk-toggleable__label-arrow:before {content: \"▸\";float: left;margin-right: 0.25em;color: #696969;}#sk-container-id-2 label.sk-toggleable__label-arrow:hover:before {color: black;}#sk-container-id-2 div.sk-estimator:hover label.sk-toggleable__label-arrow:before {color: black;}#sk-container-id-2 div.sk-toggleable__content {max-height: 0;max-width: 0;overflow: hidden;text-align: left;background-color: #f0f8ff;}#sk-container-id-2 div.sk-toggleable__content pre {margin: 0.2em;color: black;border-radius: 0.25em;background-color: #f0f8ff;}#sk-container-id-2 input.sk-toggleable__control:checked~div.sk-toggleable__content {max-height: 200px;max-width: 100%;overflow: auto;}#sk-container-id-2 input.sk-toggleable__control:checked~label.sk-toggleable__label-arrow:before {content: \"▾\";}#sk-container-id-2 div.sk-estimator input.sk-toggleable__control:checked~label.sk-toggleable__label {background-color: #d4ebff;}#sk-container-id-2 div.sk-label input.sk-toggleable__control:checked~label.sk-toggleable__label {background-color: #d4ebff;}#sk-container-id-2 input.sk-hidden--visually {border: 0;clip: rect(1px 1px 1px 1px);clip: rect(1px, 1px, 1px, 1px);height: 1px;margin: -1px;overflow: hidden;padding: 0;position: absolute;width: 1px;}#sk-container-id-2 div.sk-estimator {font-family: monospace;background-color: #f0f8ff;border: 1px dotted black;border-radius: 0.25em;box-sizing: border-box;margin-bottom: 0.5em;}#sk-container-id-2 div.sk-estimator:hover {background-color: #d4ebff;}#sk-container-id-2 div.sk-parallel-item::after {content: \"\";width: 100%;border-bottom: 1px solid gray;flex-grow: 1;}#sk-container-id-2 div.sk-label:hover label.sk-toggleable__label {background-color: #d4ebff;}#sk-container-id-2 div.sk-serial::before {content: \"\";position: absolute;border-left: 1px solid gray;box-sizing: border-box;top: 0;bottom: 0;left: 50%;z-index: 0;}#sk-container-id-2 div.sk-serial {display: flex;flex-direction: column;align-items: center;background-color: white;padding-right: 0.2em;padding-left: 0.2em;position: relative;}#sk-container-id-2 div.sk-item {position: relative;z-index: 1;}#sk-container-id-2 div.sk-parallel {display: flex;align-items: stretch;justify-content: center;background-color: white;position: relative;}#sk-container-id-2 div.sk-item::before, #sk-container-id-2 div.sk-parallel-item::before {content: \"\";position: absolute;border-left: 1px solid gray;box-sizing: border-box;top: 0;bottom: 0;left: 50%;z-index: -1;}#sk-container-id-2 div.sk-parallel-item {display: flex;flex-direction: column;z-index: 1;position: relative;background-color: white;}#sk-container-id-2 div.sk-parallel-item:first-child::after {align-self: flex-end;width: 50%;}#sk-container-id-2 div.sk-parallel-item:last-child::after {align-self: flex-start;width: 50%;}#sk-container-id-2 div.sk-parallel-item:only-child::after {width: 0;}#sk-container-id-2 div.sk-dashed-wrapped {border: 1px dashed gray;margin: 0 0.4em 0.5em 0.4em;box-sizing: border-box;padding-bottom: 0.4em;background-color: white;}#sk-container-id-2 div.sk-label label {font-family: monospace;font-weight: bold;display: inline-block;line-height: 1.2em;}#sk-container-id-2 div.sk-label-container {text-align: center;}#sk-container-id-2 div.sk-container {/* jupyter's `normalize.less` sets `[hidden] { display: none; }` but bootstrap.min.css set `[hidden] { display: none !important; }` so we also need the `!important` here to be able to override the default hidden behavior on the sphinx rendered scikit-learn.org. See: https://github.com/scikit-learn/scikit-learn/issues/21755 */display: inline-block !important;position: relative;}#sk-container-id-2 div.sk-text-repr-fallback {display: none;}</style><div id=\"sk-container-id-2\" class=\"sk-top-container\"><div class=\"sk-text-repr-fallback\"><pre>MLPClassifier(activation=&#x27;tanh&#x27;, hidden_layer_sizes=(20, 20))</pre><b>In a Jupyter environment, please rerun this cell to show the HTML representation or trust the notebook. <br />On GitHub, the HTML representation is unable to render, please try loading this page with nbviewer.org.</b></div><div class=\"sk-container\" hidden><div class=\"sk-item\"><div class=\"sk-estimator sk-toggleable\"><input class=\"sk-toggleable__control sk-hidden--visually\" id=\"sk-estimator-id-2\" type=\"checkbox\" checked><label for=\"sk-estimator-id-2\" class=\"sk-toggleable__label sk-toggleable__label-arrow\">MLPClassifier</label><div class=\"sk-toggleable__content\"><pre>MLPClassifier(activation=&#x27;tanh&#x27;, hidden_layer_sizes=(20, 20))</pre></div></div></div></div></div>"
            ]
          },
          "metadata": {},
          "execution_count": 11
        }
      ]
    },
    {
      "cell_type": "code",
      "source": [
        "from joblib import Parallel, delayed\n",
        "# Parallel(n_jobs=1)(delayed(sqrt)(i**2) for i in range(10))\n",
        "\n",
        "def jl_gen_sessions(agent, env):\n",
        "    return generate_session(env, agent, t_max=10000)"
      ],
      "metadata": {
        "id": "wm9AsKqABO6Q"
      },
      "execution_count": 13,
      "outputs": []
    },
    {
      "cell_type": "code",
      "source": [
        "import time"
      ],
      "metadata": {
        "id": "5tMNafRvDnR7"
      },
      "execution_count": 14,
      "outputs": []
    },
    {
      "cell_type": "code",
      "source": [
        "n_sessions = 100\n",
        "percentile = 90\n",
        "log = []\n",
        "\n",
        "backlog_n = 100\n",
        "backlog = []\n",
        "\n",
        "n_workers = 4\n",
        "\n",
        "envs = []\n",
        "for _ in range(n_sessions):\n",
        "  envs.append(gym.make(\"MountainCar-v0\", render_mode=\"rgb_array\").env)\n",
        "\n",
        "for i in range(100):\n",
        "    start_time = time.perf_counter()\n",
        "    # generate new sessions\n",
        "    # sessions = []\n",
        "    # for _ in range(n_sessions):\n",
        "    #     s, a, r = generate_session(env, agent, t_max=1000)\n",
        "    #     sessions.append((s, a, r))\n",
        "\n",
        "    sessions = Parallel(n_jobs=1)(delayed(jl_gen_sessions)(agent, envs[i]) for i in range(n_sessions))\n",
        "\n",
        "    backlog.extend(sessions)\n",
        "    if len(backlog) > backlog_n:\n",
        "        backlog = sorted(backlog, key=lambda x: x[2])[-backlog_n:]\n",
        "\n",
        "    states_batch, actions_batch, rewards_batch = map(list, zip(*backlog))\n",
        "    elite_states, elite_actions = select_elites(states_batch, actions_batch, rewards_batch, percentile)\n",
        "\n",
        "    if len(elite_states) > 0:\n",
        "        agent.partial_fit(elite_states, elite_actions)\n",
        "\n",
        "    show_progress(\n",
        "        rewards_batch, log, percentile, reward_range=[-10000, np.max(rewards_batch)]\n",
        "    )\n",
        "\n",
        "    if np.mean(rewards_batch) > 190:\n",
        "        print(\"You Win! You may stop training now via KeyboardInterrupt.\")\n",
        "    print(time.perf_counter() - start_time)"
      ],
      "metadata": {
        "id": "bCh_xSb_AZb4",
        "outputId": "8083da31-912d-4ce0-8ffb-040a2c4568c5",
        "colab": {
          "base_uri": "https://localhost:8080/",
          "height": 735
        }
      },
      "execution_count": 17,
      "outputs": [
        {
          "output_type": "stream",
          "name": "stdout",
          "text": [
            "mean reward = -112.460, threshold=-110.000\n"
          ]
        },
        {
          "output_type": "display_data",
          "data": {
            "text/plain": [
              "<Figure size 800x400 with 2 Axes>"
            ],
            "image/png": "[encoded data removed]"
          },
          "metadata": {}
        },
        {
          "output_type": "stream",
          "name": "stdout",
          "text": [
            "5.9087896889996046\n"
          ]
        },
        {
          "output_type": "error",
          "ename": "KeyboardInterrupt",
          "evalue": "",
          "traceback": [
            "\u001b[0;31m---------------------------------------------------------------------------\u001b[0m",
            "\u001b[0;31mKeyboardInterrupt\u001b[0m                         Traceback (most recent call last)",
            "\u001b[0;32m<ipython-input-17-d842bdd35707>\u001b[0m in \u001b[0;36m<cell line: 14>\u001b[0;34m()\u001b[0m\n\u001b[1;32m     20\u001b[0m     \u001b[0;31m#     sessions.append((s, a, r))\u001b[0m\u001b[0;34m\u001b[0m\u001b[0;34m\u001b[0m\u001b[0m\n\u001b[1;32m     21\u001b[0m \u001b[0;34m\u001b[0m\u001b[0m\n\u001b[0;32m---> 22\u001b[0;31m     \u001b[0msessions\u001b[0m \u001b[0;34m=\u001b[0m \u001b[0mParallel\u001b[0m\u001b[0;34m(\u001b[0m\u001b[0mn_jobs\u001b[0m\u001b[0;34m=\u001b[0m\u001b[0;36m1\u001b[0m\u001b[0;34m)\u001b[0m\u001b[0;34m(\u001b[0m\u001b[0mdelayed\u001b[0m\u001b[0;34m(\u001b[0m\u001b[0mjl_gen_sessions\u001b[0m\u001b[0;34m)\u001b[0m\u001b[0;34m(\u001b[0m\u001b[0magent\u001b[0m\u001b[0;34m,\u001b[0m \u001b[0menvs\u001b[0m\u001b[0;34m[\u001b[0m\u001b[0mi\u001b[0m\u001b[0;34m]\u001b[0m\u001b[0;34m)\u001b[0m \u001b[0;32mfor\u001b[0m \u001b[0mi\u001b[0m \u001b[0;32min\u001b[0m \u001b[0mrange\u001b[0m\u001b[0;34m(\u001b[0m\u001b[0mn_sessions\u001b[0m\u001b[0;34m)\u001b[0m\u001b[0;34m)\u001b[0m\u001b[0;34m\u001b[0m\u001b[0;34m\u001b[0m\u001b[0m\n\u001b[0m\u001b[1;32m     23\u001b[0m \u001b[0;34m\u001b[0m\u001b[0m\n\u001b[1;32m     24\u001b[0m     \u001b[0mbacklog\u001b[0m\u001b[0;34m.\u001b[0m\u001b[0mextend\u001b[0m\u001b[0;34m(\u001b[0m\u001b[0msessions\u001b[0m\u001b[0;34m)\u001b[0m\u001b[0;34m\u001b[0m\u001b[0;34m\u001b[0m\u001b[0m\n",
            "\u001b[0;32m/usr/local/lib/python3.10/dist-packages/joblib/parallel.py\u001b[0m in \u001b[0;36m__call__\u001b[0;34m(self, iterable)\u001b[0m\n\u001b[1;32m   1861\u001b[0m             \u001b[0moutput\u001b[0m \u001b[0;34m=\u001b[0m \u001b[0mself\u001b[0m\u001b[0;34m.\u001b[0m\u001b[0m_get_sequential_output\u001b[0m\u001b[0;34m(\u001b[0m\u001b[0miterable\u001b[0m\u001b[0;34m)\u001b[0m\u001b[0;34m\u001b[0m\u001b[0;34m\u001b[0m\u001b[0m\n\u001b[1;32m   1862\u001b[0m             \u001b[0mnext\u001b[0m\u001b[0;34m(\u001b[0m\u001b[0moutput\u001b[0m\u001b[0;34m)\u001b[0m\u001b[0;34m\u001b[0m\u001b[0;34m\u001b[0m\u001b[0m\n\u001b[0;32m-> 1863\u001b[0;31m             \u001b[0;32mreturn\u001b[0m \u001b[0moutput\u001b[0m \u001b[0;32mif\u001b[0m \u001b[0mself\u001b[0m\u001b[0;34m.\u001b[0m\u001b[0mreturn_generator\u001b[0m \u001b[0;32melse\u001b[0m \u001b[0mlist\u001b[0m\u001b[0;34m(\u001b[0m\u001b[0moutput\u001b[0m\u001b[0;34m)\u001b[0m\u001b[0;34m\u001b[0m\u001b[0;34m\u001b[0m\u001b[0m\n\u001b[0m\u001b[1;32m   1864\u001b[0m \u001b[0;34m\u001b[0m\u001b[0m\n\u001b[1;32m   1865\u001b[0m         \u001b[0;31m# Let's create an ID that uniquely identifies the current call. If the\u001b[0m\u001b[0;34m\u001b[0m\u001b[0;34m\u001b[0m\u001b[0m\n",
            "\u001b[0;32m/usr/local/lib/python3.10/dist-packages/joblib/parallel.py\u001b[0m in \u001b[0;36m_get_sequential_output\u001b[0;34m(self, iterable)\u001b[0m\n\u001b[1;32m   1790\u001b[0m                 \u001b[0mself\u001b[0m\u001b[0;34m.\u001b[0m\u001b[0mn_dispatched_batches\u001b[0m \u001b[0;34m+=\u001b[0m \u001b[0;36m1\u001b[0m\u001b[0;34m\u001b[0m\u001b[0;34m\u001b[0m\u001b[0m\n\u001b[1;32m   1791\u001b[0m                 \u001b[0mself\u001b[0m\u001b[0;34m.\u001b[0m\u001b[0mn_dispatched_tasks\u001b[0m \u001b[0;34m+=\u001b[0m \u001b[0;36m1\u001b[0m\u001b[0;34m\u001b[0m\u001b[0;34m\u001b[0m\u001b[0m\n\u001b[0;32m-> 1792\u001b[0;31m                 \u001b[0mres\u001b[0m \u001b[0;34m=\u001b[0m \u001b[0mfunc\u001b[0m\u001b[0;34m(\u001b[0m\u001b[0;34m*\u001b[0m\u001b[0margs\u001b[0m\u001b[0;34m,\u001b[0m \u001b[0;34m**\u001b[0m\u001b[0mkwargs\u001b[0m\u001b[0;34m)\u001b[0m\u001b[0;34m\u001b[0m\u001b[0;34m\u001b[0m\u001b[0m\n\u001b[0m\u001b[1;32m   1793\u001b[0m                 \u001b[0mself\u001b[0m\u001b[0;34m.\u001b[0m\u001b[0mn_completed_tasks\u001b[0m \u001b[0;34m+=\u001b[0m \u001b[0;36m1\u001b[0m\u001b[0;34m\u001b[0m\u001b[0;34m\u001b[0m\u001b[0m\n\u001b[1;32m   1794\u001b[0m                 \u001b[0mself\u001b[0m\u001b[0;34m.\u001b[0m\u001b[0mprint_progress\u001b[0m\u001b[0;34m(\u001b[0m\u001b[0;34m)\u001b[0m\u001b[0;34m\u001b[0m\u001b[0;34m\u001b[0m\u001b[0m\n",
            "\u001b[0;32m<ipython-input-13-7c6dc85a461c>\u001b[0m in \u001b[0;36mjl_gen_sessions\u001b[0;34m(agent, env)\u001b[0m\n\u001b[1;32m      3\u001b[0m \u001b[0;34m\u001b[0m\u001b[0m\n\u001b[1;32m      4\u001b[0m \u001b[0;32mdef\u001b[0m \u001b[0mjl_gen_sessions\u001b[0m\u001b[0;34m(\u001b[0m\u001b[0magent\u001b[0m\u001b[0;34m,\u001b[0m \u001b[0menv\u001b[0m\u001b[0;34m)\u001b[0m\u001b[0;34m:\u001b[0m\u001b[0;34m\u001b[0m\u001b[0;34m\u001b[0m\u001b[0m\n\u001b[0;32m----> 5\u001b[0;31m     \u001b[0;32mreturn\u001b[0m \u001b[0mgenerate_session\u001b[0m\u001b[0;34m(\u001b[0m\u001b[0menv\u001b[0m\u001b[0;34m,\u001b[0m \u001b[0magent\u001b[0m\u001b[0;34m,\u001b[0m \u001b[0mt_max\u001b[0m\u001b[0;34m=\u001b[0m\u001b[0;36m10000\u001b[0m\u001b[0;34m)\u001b[0m\u001b[0;34m\u001b[0m\u001b[0;34m\u001b[0m\u001b[0m\n\u001b[0m",
            "\u001b[0;32m<ipython-input-6-392f18c1ccfd>\u001b[0m in \u001b[0;36mgenerate_session\u001b[0;34m(env, agent, t_max)\u001b[0m\n\u001b[1;32m     12\u001b[0m \u001b[0;34m\u001b[0m\u001b[0m\n\u001b[1;32m     13\u001b[0m         \u001b[0;31m# use agent to predict a vector of action probabilities for state :s:\u001b[0m\u001b[0;34m\u001b[0m\u001b[0;34m\u001b[0m\u001b[0m\n\u001b[0;32m---> 14\u001b[0;31m         \u001b[0mprobs\u001b[0m \u001b[0;34m=\u001b[0m \u001b[0magent\u001b[0m\u001b[0;34m.\u001b[0m\u001b[0mpredict_proba\u001b[0m\u001b[0;34m(\u001b[0m\u001b[0ms\u001b[0m\u001b[0;34m.\u001b[0m\u001b[0mreshape\u001b[0m\u001b[0;34m(\u001b[0m\u001b[0;36m1\u001b[0m\u001b[0;34m,\u001b[0m \u001b[0;34m-\u001b[0m\u001b[0;36m1\u001b[0m\u001b[0;34m)\u001b[0m\u001b[0;34m)\u001b[0m\u001b[0;34m.\u001b[0m\u001b[0mreshape\u001b[0m\u001b[0;34m(\u001b[0m\u001b[0;34m-\u001b[0m\u001b[0;36m1\u001b[0m\u001b[0;34m)\u001b[0m\u001b[0;34m\u001b[0m\u001b[0;34m\u001b[0m\u001b[0m\n\u001b[0m\u001b[1;32m     15\u001b[0m \u001b[0;34m\u001b[0m\u001b[0m\n\u001b[1;32m     16\u001b[0m         \u001b[0;32massert\u001b[0m \u001b[0mprobs\u001b[0m\u001b[0;34m.\u001b[0m\u001b[0mshape\u001b[0m \u001b[0;34m==\u001b[0m \u001b[0;34m(\u001b[0m\u001b[0menv\u001b[0m\u001b[0;34m.\u001b[0m\u001b[0maction_space\u001b[0m\u001b[0;34m.\u001b[0m\u001b[0mn\u001b[0m\u001b[0;34m,\u001b[0m\u001b[0;34m)\u001b[0m\u001b[0;34m,\u001b[0m \u001b[0;34m\"make sure probabilities are a vector (hint: np.reshape)\"\u001b[0m\u001b[0;34m\u001b[0m\u001b[0;34m\u001b[0m\u001b[0m\n",
            "\u001b[0;32m/usr/local/lib/python3.10/dist-packages/sklearn/neural_network/_multilayer_perceptron.py\u001b[0m in \u001b[0;36mpredict_proba\u001b[0;34m(self, X)\u001b[0m\n\u001b[1;32m   1240\u001b[0m         \"\"\"\n\u001b[1;32m   1241\u001b[0m         \u001b[0mcheck_is_fitted\u001b[0m\u001b[0;34m(\u001b[0m\u001b[0mself\u001b[0m\u001b[0;34m)\u001b[0m\u001b[0;34m\u001b[0m\u001b[0;34m\u001b[0m\u001b[0m\n\u001b[0;32m-> 1242\u001b[0;31m         \u001b[0my_pred\u001b[0m \u001b[0;34m=\u001b[0m \u001b[0mself\u001b[0m\u001b[0;34m.\u001b[0m\u001b[0m_forward_pass_fast\u001b[0m\u001b[0;34m(\u001b[0m\u001b[0mX\u001b[0m\u001b[0;34m)\u001b[0m\u001b[0;34m\u001b[0m\u001b[0;34m\u001b[0m\u001b[0m\n\u001b[0m\u001b[1;32m   1243\u001b[0m \u001b[0;34m\u001b[0m\u001b[0m\n\u001b[1;32m   1244\u001b[0m         \u001b[0;32mif\u001b[0m \u001b[0mself\u001b[0m\u001b[0;34m.\u001b[0m\u001b[0mn_outputs_\u001b[0m \u001b[0;34m==\u001b[0m \u001b[0;36m1\u001b[0m\u001b[0;34m:\u001b[0m\u001b[0;34m\u001b[0m\u001b[0;34m\u001b[0m\u001b[0m\n",
            "\u001b[0;32m/usr/local/lib/python3.10/dist-packages/sklearn/neural_network/_multilayer_perceptron.py\u001b[0m in \u001b[0;36m_forward_pass_fast\u001b[0;34m(self, X, check_input)\u001b[0m\n\u001b[1;32m    200\u001b[0m         \"\"\"\n\u001b[1;32m    201\u001b[0m         \u001b[0;32mif\u001b[0m \u001b[0mcheck_input\u001b[0m\u001b[0;34m:\u001b[0m\u001b[0;34m\u001b[0m\u001b[0;34m\u001b[0m\u001b[0m\n\u001b[0;32m--> 202\u001b[0;31m             \u001b[0mX\u001b[0m \u001b[0;34m=\u001b[0m \u001b[0mself\u001b[0m\u001b[0;34m.\u001b[0m\u001b[0m_validate_data\u001b[0m\u001b[0;34m(\u001b[0m\u001b[0mX\u001b[0m\u001b[0;34m,\u001b[0m \u001b[0maccept_sparse\u001b[0m\u001b[0;34m=\u001b[0m\u001b[0;34m[\u001b[0m\u001b[0;34m\"csr\"\u001b[0m\u001b[0;34m,\u001b[0m \u001b[0;34m\"csc\"\u001b[0m\u001b[0;34m]\u001b[0m\u001b[0;34m,\u001b[0m \u001b[0mreset\u001b[0m\u001b[0;34m=\u001b[0m\u001b[0;32mFalse\u001b[0m\u001b[0;34m)\u001b[0m\u001b[0;34m\u001b[0m\u001b[0;34m\u001b[0m\u001b[0m\n\u001b[0m\u001b[1;32m    203\u001b[0m \u001b[0;34m\u001b[0m\u001b[0m\n\u001b[1;32m    204\u001b[0m         \u001b[0;31m# Initialize first layer\u001b[0m\u001b[0;34m\u001b[0m\u001b[0;34m\u001b[0m\u001b[0m\n",
            "\u001b[0;32m/usr/local/lib/python3.10/dist-packages/sklearn/base.py\u001b[0m in \u001b[0;36m_validate_data\u001b[0;34m(self, X, y, reset, validate_separately, **check_params)\u001b[0m\n\u001b[1;32m    563\u001b[0m             \u001b[0;32mraise\u001b[0m \u001b[0mValueError\u001b[0m\u001b[0;34m(\u001b[0m\u001b[0;34m\"Validation should be done on X, y or both.\"\u001b[0m\u001b[0;34m)\u001b[0m\u001b[0;34m\u001b[0m\u001b[0;34m\u001b[0m\u001b[0m\n\u001b[1;32m    564\u001b[0m         \u001b[0;32melif\u001b[0m \u001b[0;32mnot\u001b[0m \u001b[0mno_val_X\u001b[0m \u001b[0;32mand\u001b[0m \u001b[0mno_val_y\u001b[0m\u001b[0;34m:\u001b[0m\u001b[0;34m\u001b[0m\u001b[0;34m\u001b[0m\u001b[0m\n\u001b[0;32m--> 565\u001b[0;31m             \u001b[0mX\u001b[0m \u001b[0;34m=\u001b[0m \u001b[0mcheck_array\u001b[0m\u001b[0;34m(\u001b[0m\u001b[0mX\u001b[0m\u001b[0;34m,\u001b[0m \u001b[0minput_name\u001b[0m\u001b[0;34m=\u001b[0m\u001b[0;34m\"X\"\u001b[0m\u001b[0;34m,\u001b[0m \u001b[0;34m**\u001b[0m\u001b[0mcheck_params\u001b[0m\u001b[0;34m)\u001b[0m\u001b[0;34m\u001b[0m\u001b[0;34m\u001b[0m\u001b[0m\n\u001b[0m\u001b[1;32m    566\u001b[0m             \u001b[0mout\u001b[0m \u001b[0;34m=\u001b[0m \u001b[0mX\u001b[0m\u001b[0;34m\u001b[0m\u001b[0;34m\u001b[0m\u001b[0m\n\u001b[1;32m    567\u001b[0m         \u001b[0;32melif\u001b[0m \u001b[0mno_val_X\u001b[0m \u001b[0;32mand\u001b[0m \u001b[0;32mnot\u001b[0m \u001b[0mno_val_y\u001b[0m\u001b[0;34m:\u001b[0m\u001b[0;34m\u001b[0m\u001b[0;34m\u001b[0m\u001b[0m\n",
            "\u001b[0;32m/usr/local/lib/python3.10/dist-packages/sklearn/utils/validation.py\u001b[0m in \u001b[0;36mcheck_array\u001b[0;34m(array, accept_sparse, accept_large_sparse, dtype, order, copy, force_all_finite, ensure_2d, allow_nd, ensure_min_samples, ensure_min_features, estimator, input_name)\u001b[0m\n\u001b[1;32m    919\u001b[0m \u001b[0;34m\u001b[0m\u001b[0m\n\u001b[1;32m    920\u001b[0m         \u001b[0;32mif\u001b[0m \u001b[0mforce_all_finite\u001b[0m\u001b[0;34m:\u001b[0m\u001b[0;34m\u001b[0m\u001b[0;34m\u001b[0m\u001b[0m\n\u001b[0;32m--> 921\u001b[0;31m             _assert_all_finite(\n\u001b[0m\u001b[1;32m    922\u001b[0m                 \u001b[0marray\u001b[0m\u001b[0;34m,\u001b[0m\u001b[0;34m\u001b[0m\u001b[0;34m\u001b[0m\u001b[0m\n\u001b[1;32m    923\u001b[0m                 \u001b[0minput_name\u001b[0m\u001b[0;34m=\u001b[0m\u001b[0minput_name\u001b[0m\u001b[0;34m,\u001b[0m\u001b[0;34m\u001b[0m\u001b[0;34m\u001b[0m\u001b[0m\n",
            "\u001b[0;32m/usr/local/lib/python3.10/dist-packages/sklearn/utils/validation.py\u001b[0m in \u001b[0;36m_assert_all_finite\u001b[0;34m(X, allow_nan, msg_dtype, estimator_name, input_name)\u001b[0m\n\u001b[1;32m    120\u001b[0m     \u001b[0;31m# error message.\u001b[0m\u001b[0;34m\u001b[0m\u001b[0;34m\u001b[0m\u001b[0m\n\u001b[1;32m    121\u001b[0m     \u001b[0;32mwith\u001b[0m \u001b[0mnp\u001b[0m\u001b[0;34m.\u001b[0m\u001b[0merrstate\u001b[0m\u001b[0;34m(\u001b[0m\u001b[0mover\u001b[0m\u001b[0;34m=\u001b[0m\u001b[0;34m\"ignore\"\u001b[0m\u001b[0;34m)\u001b[0m\u001b[0;34m:\u001b[0m\u001b[0;34m\u001b[0m\u001b[0;34m\u001b[0m\u001b[0m\n\u001b[0;32m--> 122\u001b[0;31m         \u001b[0mfirst_pass_isfinite\u001b[0m \u001b[0;34m=\u001b[0m \u001b[0mxp\u001b[0m\u001b[0;34m.\u001b[0m\u001b[0misfinite\u001b[0m\u001b[0;34m(\u001b[0m\u001b[0mxp\u001b[0m\u001b[0;34m.\u001b[0m\u001b[0msum\u001b[0m\u001b[0;34m(\u001b[0m\u001b[0mX\u001b[0m\u001b[0;34m)\u001b[0m\u001b[0;34m)\u001b[0m\u001b[0;34m\u001b[0m\u001b[0;34m\u001b[0m\u001b[0m\n\u001b[0m\u001b[1;32m    123\u001b[0m     \u001b[0;32mif\u001b[0m \u001b[0mfirst_pass_isfinite\u001b[0m\u001b[0;34m:\u001b[0m\u001b[0;34m\u001b[0m\u001b[0;34m\u001b[0m\u001b[0m\n\u001b[1;32m    124\u001b[0m         \u001b[0;32mreturn\u001b[0m\u001b[0;34m\u001b[0m\u001b[0;34m\u001b[0m\u001b[0m\n",
            "\u001b[0;32m/usr/local/lib/python3.10/dist-packages/numpy/core/fromnumeric.py\u001b[0m in \u001b[0;36msum\u001b[0;34m(a, axis, dtype, out, keepdims, initial, where)\u001b[0m\n\u001b[1;32m   2311\u001b[0m         \u001b[0;32mreturn\u001b[0m \u001b[0mres\u001b[0m\u001b[0;34m\u001b[0m\u001b[0;34m\u001b[0m\u001b[0m\n\u001b[1;32m   2312\u001b[0m \u001b[0;34m\u001b[0m\u001b[0m\n\u001b[0;32m-> 2313\u001b[0;31m     return _wrapreduction(a, np.add, 'sum', axis, dtype, out, keepdims=keepdims,\n\u001b[0m\u001b[1;32m   2314\u001b[0m                           initial=initial, where=where)\n\u001b[1;32m   2315\u001b[0m \u001b[0;34m\u001b[0m\u001b[0m\n",
            "\u001b[0;32m/usr/local/lib/python3.10/dist-packages/numpy/core/fromnumeric.py\u001b[0m in \u001b[0;36m_wrapreduction\u001b[0;34m(obj, ufunc, method, axis, dtype, out, **kwargs)\u001b[0m\n\u001b[1;32m     69\u001b[0m \u001b[0;34m\u001b[0m\u001b[0m\n\u001b[1;32m     70\u001b[0m \u001b[0;34m\u001b[0m\u001b[0m\n\u001b[0;32m---> 71\u001b[0;31m \u001b[0;32mdef\u001b[0m \u001b[0m_wrapreduction\u001b[0m\u001b[0;34m(\u001b[0m\u001b[0mobj\u001b[0m\u001b[0;34m,\u001b[0m \u001b[0mufunc\u001b[0m\u001b[0;34m,\u001b[0m \u001b[0mmethod\u001b[0m\u001b[0;34m,\u001b[0m \u001b[0maxis\u001b[0m\u001b[0;34m,\u001b[0m \u001b[0mdtype\u001b[0m\u001b[0;34m,\u001b[0m \u001b[0mout\u001b[0m\u001b[0;34m,\u001b[0m \u001b[0;34m**\u001b[0m\u001b[0mkwargs\u001b[0m\u001b[0;34m)\u001b[0m\u001b[0;34m:\u001b[0m\u001b[0;34m\u001b[0m\u001b[0;34m\u001b[0m\u001b[0m\n\u001b[0m\u001b[1;32m     72\u001b[0m     passkwargs = {k: v for k, v in kwargs.items()\n\u001b[1;32m     73\u001b[0m                   if v is not np._NoValue}\n",
            "\u001b[0;31mKeyboardInterrupt\u001b[0m: "
          ]
        }
      ]
    },
    {
      "cell_type": "code",
      "source": [],
      "metadata": {
        "id": "VpNClSGqAZfS"
      },
      "execution_count": null,
      "outputs": []
    },
    {
      "cell_type": "code",
      "execution_count": null,
      "metadata": {
        "id": "qcjz-nm_G9zN"
      },
      "outputs": [],
      "source": [
        "def visualize_mountain_car(env, agent):\n",
        "    # Compute policy for all possible x and v (with discretization)\n",
        "    xs = np.linspace(env.min_position, env.max_position, 100)\n",
        "    vs = np.linspace(-env.max_speed, env.max_speed, 100)\n",
        "\n",
        "    grid = np.dstack(np.meshgrid(xs, vs[::-1])).transpose(1, 0, 2)\n",
        "    grid_flat = grid.reshape(len(xs) * len(vs), 2)\n",
        "    probs = (\n",
        "        agent.predict_proba(grid_flat).reshape(len(xs), len(vs), 3).transpose(1, 0, 2)\n",
        "    )\n",
        "\n",
        "    # # The above code is equivalent to the following:\n",
        "    # probs = np.empty((len(vs), len(xs), 3))\n",
        "    # for i, v in enumerate(vs[::-1]):\n",
        "    #     for j, x in enumerate(xs):\n",
        "    #         probs[i, j, :] = agent.predict_proba([[x, v]])[0]\n",
        "\n",
        "    # Draw policy\n",
        "    f, ax = plt.subplots(figsize=(7, 7))\n",
        "    ax.imshow(\n",
        "        probs,\n",
        "        extent=(env.min_position, env.max_position, -env.max_speed, env.max_speed),\n",
        "        aspect=\"auto\",\n",
        "    )\n",
        "    ax.set_title(\"Learned policy: red=left, green=nothing, blue=right\")\n",
        "    ax.set_xlabel(\"position (x)\")\n",
        "    ax.set_ylabel(\"velocity (v)\")\n",
        "\n",
        "    # Sample a trajectory and draw it\n",
        "    states, actions, _ = generate_session(env, agent)\n",
        "    states = np.array(states)\n",
        "    ax.plot(states[:, 0], states[:, 1], color=\"white\")\n",
        "\n",
        "    # Draw every 3rd action from the trajectory\n",
        "    for (x, v), a in zip(states[::3], actions[::3]):\n",
        "        if a == 0:\n",
        "            plt.arrow(x, v, -0.1, 0, color=\"white\", head_length=0.02)\n",
        "        elif a == 2:\n",
        "            plt.arrow(x, v, 0.1, 0, color=\"white\", head_length=0.02)\n",
        "\n",
        "\n",
        "with gym.make(\"MountainCar-v0\", render_mode=\"rgb_arrary\").env as env:\n",
        "    visualize_mountain_car(env, agent)\n"
      ]
    },
    {
      "cell_type": "markdown",
      "metadata": {
        "id": "Dzk41lDPG9zO"
      },
      "source": [
        "### Bonus tasks\n",
        "\n",
        "* __2.3 bonus__ (2 pts) Try to find a network architecture and training params that solve __both__ environments above (_Points depend on implementation. If you attempted this task, please mention it in Anytask submission._)\n",
        "\n",
        "* __2.4 bonus__ (4 pts) Solve continuous action space task with `MLPRegressor` or similar.\n",
        "  * Since your agent only predicts the \"expected\" action, you will have to add noise to ensure exploration.\n",
        "  * Choose one of [MountainCarContinuous-v0](https://gymnasium.farama.org/environments/classic_control/mountain_car_continuous/) (90+ pts to solve), [LunarLanderContinuous-v2](https://gymnasium.farama.org/environments/box2d/lunar_lander/) (`env = gym.make(\"LunarLander-v2\", continuous=True)`)(200+ pts to solve)\n",
        "  * 4 points for solving. Slightly less for getting some results below solution threshold. Note that discrete and continuous environments may have slightly different rules, aside from action spaces."
      ]
    }
  ],
  "metadata": {
    "colab": {
      "provenance": []
    },
    "kernelspec": {
      "display_name": "Python 3",
      "language": "python",
      "name": "python3"
    },
    "language_info": {
      "codemirror_mode": {
        "name": "ipython",
        "version": 3
      },
      "file_extension": ".py",
      "mimetype": "text/x-python",
      "name": "python",
      "nbconvert_exporter": "python",
      "pygments_lexer": "ipython3",
      "version": "3.8.5"
    }
  },
  "nbformat": 4,
  "nbformat_minor": 0
}